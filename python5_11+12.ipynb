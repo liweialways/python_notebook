{
  "nbformat": 4,
  "nbformat_minor": 0,
  "metadata": {
    "colab": {
      "name": "python5-11+12.ipynb",
      "version": "0.3.2",
      "provenance": [],
      "collapsed_sections": []
    },
    "kernelspec": {
      "name": "python2",
      "display_name": "Python 2"
    }
  },
  "cells": [
    {
      "cell_type": "markdown",
      "metadata": {
        "id": "view-in-github",
        "colab_type": "text"
      },
      "source": [
        "[View in Colaboratory](https://colab.research.google.com/github/liweialways/python_notebook/blob/master/python5_11+12.ipynb)"
      ]
    },
    {
      "metadata": {
        "id": "ZCM4bJSMdwj1",
        "colab_type": "code",
        "colab": {
          "base_uri": "https://localhost:8080/",
          "height": 34
        },
        "outputId": "9032b9bf-ab14-4184-dc20-abf02b681ccb"
      },
      "cell_type": "code",
      "source": [
        "print('hello')"
      ],
      "execution_count": 1,
      "outputs": [
        {
          "output_type": "stream",
          "text": [
            "hello\n"
          ],
          "name": "stdout"
        }
      ]
    },
    {
      "metadata": {
        "id": "1R9ZqP87E0Pz",
        "colab_type": "code",
        "colab": {}
      },
      "cell_type": "code",
      "source": [
        "import numpy as np\n",
        "import pandas as pd\n",
        "import matplotlib.pyplot as plt\n",
        "import datetime"
      ],
      "execution_count": 0,
      "outputs": []
    },
    {
      "metadata": {
        "id": "lGebXbQxFLTg",
        "colab_type": "code",
        "colab": {
          "resources": {
            "http://localhost:8080/nbextensions/google.colab/files.js": {
              "data": "Ly8gQ29weXJpZ2h0IDIwMTcgR29vZ2xlIExMQwovLwovLyBMaWNlbnNlZCB1bmRlciB0aGUgQXBhY2hlIExpY2Vuc2UsIFZlcnNpb24gMi4wICh0aGUgIkxpY2Vuc2UiKTsKLy8geW91IG1heSBub3QgdXNlIHRoaXMgZmlsZSBleGNlcHQgaW4gY29tcGxpYW5jZSB3aXRoIHRoZSBMaWNlbnNlLgovLyBZb3UgbWF5IG9idGFpbiBhIGNvcHkgb2YgdGhlIExpY2Vuc2UgYXQKLy8KLy8gICAgICBodHRwOi8vd3d3LmFwYWNoZS5vcmcvbGljZW5zZXMvTElDRU5TRS0yLjAKLy8KLy8gVW5sZXNzIHJlcXVpcmVkIGJ5IGFwcGxpY2FibGUgbGF3IG9yIGFncmVlZCB0byBpbiB3cml0aW5nLCBzb2Z0d2FyZQovLyBkaXN0cmlidXRlZCB1bmRlciB0aGUgTGljZW5zZSBpcyBkaXN0cmlidXRlZCBvbiBhbiAiQVMgSVMiIEJBU0lTLAovLyBXSVRIT1VUIFdBUlJBTlRJRVMgT1IgQ09ORElUSU9OUyBPRiBBTlkgS0lORCwgZWl0aGVyIGV4cHJlc3Mgb3IgaW1wbGllZC4KLy8gU2VlIHRoZSBMaWNlbnNlIGZvciB0aGUgc3BlY2lmaWMgbGFuZ3VhZ2UgZ292ZXJuaW5nIHBlcm1pc3Npb25zIGFuZAovLyBsaW1pdGF0aW9ucyB1bmRlciB0aGUgTGljZW5zZS4KCi8qKgogKiBAZmlsZW92ZXJ2aWV3IEhlbHBlcnMgZm9yIGdvb2dsZS5jb2xhYiBQeXRob24gbW9kdWxlLgogKi8KKGZ1bmN0aW9uKHNjb3BlKSB7CmZ1bmN0aW9uIHNwYW4odGV4dCwgc3R5bGVBdHRyaWJ1dGVzID0ge30pIHsKICBjb25zdCBlbGVtZW50ID0gZG9jdW1lbnQuY3JlYXRlRWxlbWVudCgnc3BhbicpOwogIGVsZW1lbnQudGV4dENvbnRlbnQgPSB0ZXh0OwogIGZvciAoY29uc3Qga2V5IG9mIE9iamVjdC5rZXlzKHN0eWxlQXR0cmlidXRlcykpIHsKICAgIGVsZW1lbnQuc3R5bGVba2V5XSA9IHN0eWxlQXR0cmlidXRlc1trZXldOwogIH0KICByZXR1cm4gZWxlbWVudDsKfQoKLy8gTWF4IG51bWJlciBvZiBieXRlcyB3aGljaCB3aWxsIGJlIHVwbG9hZGVkIGF0IGEgdGltZS4KY29uc3QgTUFYX1BBWUxPQURfU0laRSA9IDEwMCAqIDEwMjQ7Ci8vIE1heCBhbW91bnQgb2YgdGltZSB0byBibG9jayB3YWl0aW5nIGZvciB0aGUgdXNlci4KY29uc3QgRklMRV9DSEFOR0VfVElNRU9VVF9NUyA9IDMwICogMTAwMDsKCmZ1bmN0aW9uIF91cGxvYWRGaWxlcyhpbnB1dElkLCBvdXRwdXRJZCkgewogIGNvbnN0IHN0ZXBzID0gdXBsb2FkRmlsZXNTdGVwKGlucHV0SWQsIG91dHB1dElkKTsKICBjb25zdCBvdXRwdXRFbGVtZW50ID0gZG9jdW1lbnQuZ2V0RWxlbWVudEJ5SWQob3V0cHV0SWQpOwogIC8vIENhY2hlIHN0ZXBzIG9uIHRoZSBvdXRwdXRFbGVtZW50IHRvIG1ha2UgaXQgYXZhaWxhYmxlIGZvciB0aGUgbmV4dCBjYWxsCiAgLy8gdG8gdXBsb2FkRmlsZXNDb250aW51ZSBmcm9tIFB5dGhvbi4KICBvdXRwdXRFbGVtZW50LnN0ZXBzID0gc3RlcHM7CgogIHJldHVybiBfdXBsb2FkRmlsZXNDb250aW51ZShvdXRwdXRJZCk7Cn0KCi8vIFRoaXMgaXMgcm91Z2hseSBhbiBhc3luYyBnZW5lcmF0b3IgKG5vdCBzdXBwb3J0ZWQgaW4gdGhlIGJyb3dzZXIgeWV0KSwKLy8gd2hlcmUgdGhlcmUgYXJlIG11bHRpcGxlIGFzeW5jaHJvbm91cyBzdGVwcyBhbmQgdGhlIFB5dGhvbiBzaWRlIGlzIGdvaW5nCi8vIHRvIHBvbGwgZm9yIGNvbXBsZXRpb24gb2YgZWFjaCBzdGVwLgovLyBUaGlzIHVzZXMgYSBQcm9taXNlIHRvIGJsb2NrIHRoZSBweXRob24gc2lkZSBvbiBjb21wbGV0aW9uIG9mIGVhY2ggc3RlcCwKLy8gdGhlbiBwYXNzZXMgdGhlIHJlc3VsdCBvZiB0aGUgcHJldmlvdXMgc3RlcCBhcyB0aGUgaW5wdXQgdG8gdGhlIG5leHQgc3RlcC4KZnVuY3Rpb24gX3VwbG9hZEZpbGVzQ29udGludWUob3V0cHV0SWQpIHsKICBjb25zdCBvdXRwdXRFbGVtZW50ID0gZG9jdW1lbnQuZ2V0RWxlbWVudEJ5SWQob3V0cHV0SWQpOwogIGNvbnN0IHN0ZXBzID0gb3V0cHV0RWxlbWVudC5zdGVwczsKCiAgY29uc3QgbmV4dCA9IHN0ZXBzLm5leHQob3V0cHV0RWxlbWVudC5sYXN0UHJvbWlzZVZhbHVlKTsKICByZXR1cm4gUHJvbWlzZS5yZXNvbHZlKG5leHQudmFsdWUucHJvbWlzZSkudGhlbigodmFsdWUpID0+IHsKICAgIC8vIENhY2hlIHRoZSBsYXN0IHByb21pc2UgdmFsdWUgdG8gbWFrZSBpdCBhdmFpbGFibGUgdG8gdGhlIG5leHQKICAgIC8vIHN0ZXAgb2YgdGhlIGdlbmVyYXRvci4KICAgIG91dHB1dEVsZW1lbnQubGFzdFByb21pc2VWYWx1ZSA9IHZhbHVlOwogICAgcmV0dXJuIG5leHQudmFsdWUucmVzcG9uc2U7CiAgfSk7Cn0KCi8qKgogKiBHZW5lcmF0b3IgZnVuY3Rpb24gd2hpY2ggaXMgY2FsbGVkIGJldHdlZW4gZWFjaCBhc3luYyBzdGVwIG9mIHRoZSB1cGxvYWQKICogcHJvY2Vzcy4KICogQHBhcmFtIHtzdHJpbmd9IGlucHV0SWQgRWxlbWVudCBJRCBvZiB0aGUgaW5wdXQgZmlsZSBwaWNrZXIgZWxlbWVudC4KICogQHBhcmFtIHtzdHJpbmd9IG91dHB1dElkIEVsZW1lbnQgSUQgb2YgdGhlIG91dHB1dCBkaXNwbGF5LgogKiBAcmV0dXJuIHshSXRlcmFibGU8IU9iamVjdD59IEl0ZXJhYmxlIG9mIG5leHQgc3RlcHMuCiAqLwpmdW5jdGlvbiogdXBsb2FkRmlsZXNTdGVwKGlucHV0SWQsIG91dHB1dElkKSB7CiAgY29uc3QgaW5wdXRFbGVtZW50ID0gZG9jdW1lbnQuZ2V0RWxlbWVudEJ5SWQoaW5wdXRJZCk7CiAgaW5wdXRFbGVtZW50LmRpc2FibGVkID0gZmFsc2U7CgogIGNvbnN0IG91dHB1dEVsZW1lbnQgPSBkb2N1bWVudC5nZXRFbGVtZW50QnlJZChvdXRwdXRJZCk7CiAgb3V0cHV0RWxlbWVudC5pbm5lckhUTUwgPSAnJzsKCiAgY29uc3QgcGlja2VkUHJvbWlzZSA9IG5ldyBQcm9taXNlKChyZXNvbHZlKSA9PiB7CiAgICBpbnB1dEVsZW1lbnQuYWRkRXZlbnRMaXN0ZW5lcignY2hhbmdlJywgKGUpID0+IHsKICAgICAgcmVzb2x2ZShlLnRhcmdldC5maWxlcyk7CiAgICB9KTsKICB9KTsKCiAgY29uc3QgY2FuY2VsID0gZG9jdW1lbnQuY3JlYXRlRWxlbWVudCgnYnV0dG9uJyk7CiAgaW5wdXRFbGVtZW50LnBhcmVudEVsZW1lbnQuYXBwZW5kQ2hpbGQoY2FuY2VsKTsKICBjYW5jZWwudGV4dENvbnRlbnQgPSAnQ2FuY2VsIHVwbG9hZCc7CiAgY29uc3QgY2FuY2VsUHJvbWlzZSA9IG5ldyBQcm9taXNlKChyZXNvbHZlKSA9PiB7CiAgICBjYW5jZWwub25jbGljayA9ICgpID0+IHsKICAgICAgcmVzb2x2ZShudWxsKTsKICAgIH07CiAgfSk7CgogIC8vIENhbmNlbCB1cGxvYWQgaWYgdXNlciBoYXNuJ3QgcGlja2VkIGFueXRoaW5nIGluIHRpbWVvdXQuCiAgY29uc3QgdGltZW91dFByb21pc2UgPSBuZXcgUHJvbWlzZSgocmVzb2x2ZSkgPT4gewogICAgc2V0VGltZW91dCgoKSA9PiB7CiAgICAgIHJlc29sdmUobnVsbCk7CiAgICB9LCBGSUxFX0NIQU5HRV9USU1FT1VUX01TKTsKICB9KTsKCiAgLy8gV2FpdCBmb3IgdGhlIHVzZXIgdG8gcGljayB0aGUgZmlsZXMuCiAgY29uc3QgZmlsZXMgPSB5aWVsZCB7CiAgICBwcm9taXNlOiBQcm9taXNlLnJhY2UoW3BpY2tlZFByb21pc2UsIHRpbWVvdXRQcm9taXNlLCBjYW5jZWxQcm9taXNlXSksCiAgICByZXNwb25zZTogewogICAgICBhY3Rpb246ICdzdGFydGluZycsCiAgICB9CiAgfTsKCiAgaWYgKCFmaWxlcykgewogICAgcmV0dXJuIHsKICAgICAgcmVzcG9uc2U6IHsKICAgICAgICBhY3Rpb246ICdjb21wbGV0ZScsCiAgICAgIH0KICAgIH07CiAgfQoKICBjYW5jZWwucmVtb3ZlKCk7CgogIC8vIERpc2FibGUgdGhlIGlucHV0IGVsZW1lbnQgc2luY2UgZnVydGhlciBwaWNrcyBhcmUgbm90IGFsbG93ZWQuCiAgaW5wdXRFbGVtZW50LmRpc2FibGVkID0gdHJ1ZTsKCiAgZm9yIChjb25zdCBmaWxlIG9mIGZpbGVzKSB7CiAgICBjb25zdCBsaSA9IGRvY3VtZW50LmNyZWF0ZUVsZW1lbnQoJ2xpJyk7CiAgICBsaS5hcHBlbmQoc3BhbihmaWxlLm5hbWUsIHtmb250V2VpZ2h0OiAnYm9sZCd9KSk7CiAgICBsaS5hcHBlbmQoc3BhbigKICAgICAgICBgKCR7ZmlsZS50eXBlIHx8ICduL2EnfSkgLSAke2ZpbGUuc2l6ZX0gYnl0ZXMsIGAgKwogICAgICAgIGBsYXN0IG1vZGlmaWVkOiAkewogICAgICAgICAgICBmaWxlLmxhc3RNb2RpZmllZERhdGUgPyBmaWxlLmxhc3RNb2RpZmllZERhdGUudG9Mb2NhbGVEYXRlU3RyaW5nKCkgOgogICAgICAgICAgICAgICAgICAgICAgICAgICAgICAgICAgICAnbi9hJ30gLSBgKSk7CiAgICBjb25zdCBwZXJjZW50ID0gc3BhbignMCUgZG9uZScpOwogICAgbGkuYXBwZW5kQ2hpbGQocGVyY2VudCk7CgogICAgb3V0cHV0RWxlbWVudC5hcHBlbmRDaGlsZChsaSk7CgogICAgY29uc3QgZmlsZURhdGFQcm9taXNlID0gbmV3IFByb21pc2UoKHJlc29sdmUpID0+IHsKICAgICAgY29uc3QgcmVhZGVyID0gbmV3IEZpbGVSZWFkZXIoKTsKICAgICAgcmVhZGVyLm9ubG9hZCA9IChlKSA9PiB7CiAgICAgICAgcmVzb2x2ZShlLnRhcmdldC5yZXN1bHQpOwogICAgICB9OwogICAgICByZWFkZXIucmVhZEFzQXJyYXlCdWZmZXIoZmlsZSk7CiAgICB9KTsKICAgIC8vIFdhaXQgZm9yIHRoZSBkYXRhIHRvIGJlIHJlYWR5LgogICAgbGV0IGZpbGVEYXRhID0geWllbGQgewogICAgICBwcm9taXNlOiBmaWxlRGF0YVByb21pc2UsCiAgICAgIHJlc3BvbnNlOiB7CiAgICAgICAgYWN0aW9uOiAnY29udGludWUnLAogICAgICB9CiAgICB9OwoKICAgIC8vIFVzZSBhIGNodW5rZWQgc2VuZGluZyB0byBhdm9pZCBtZXNzYWdlIHNpemUgbGltaXRzLiBTZWUgYi82MjExNTY2MC4KICAgIGxldCBwb3NpdGlvbiA9IDA7CiAgICB3aGlsZSAocG9zaXRpb24gPCBmaWxlRGF0YS5ieXRlTGVuZ3RoKSB7CiAgICAgIGNvbnN0IGxlbmd0aCA9IE1hdGgubWluKGZpbGVEYXRhLmJ5dGVMZW5ndGggLSBwb3NpdGlvbiwgTUFYX1BBWUxPQURfU0laRSk7CiAgICAgIGNvbnN0IGNodW5rID0gbmV3IFVpbnQ4QXJyYXkoZmlsZURhdGEsIHBvc2l0aW9uLCBsZW5ndGgpOwogICAgICBwb3NpdGlvbiArPSBsZW5ndGg7CgogICAgICBjb25zdCBiYXNlNjQgPSBidG9hKFN0cmluZy5mcm9tQ2hhckNvZGUuYXBwbHkobnVsbCwgY2h1bmspKTsKICAgICAgeWllbGQgewogICAgICAgIHJlc3BvbnNlOiB7CiAgICAgICAgICBhY3Rpb246ICdhcHBlbmQnLAogICAgICAgICAgZmlsZTogZmlsZS5uYW1lLAogICAgICAgICAgZGF0YTogYmFzZTY0LAogICAgICAgIH0sCiAgICAgIH07CiAgICAgIHBlcmNlbnQudGV4dENvbnRlbnQgPQogICAgICAgICAgYCR7TWF0aC5yb3VuZCgocG9zaXRpb24gLyBmaWxlRGF0YS5ieXRlTGVuZ3RoKSAqIDEwMCl9JSBkb25lYDsKICAgIH0KICB9CgogIC8vIEFsbCBkb25lLgogIHlpZWxkIHsKICAgIHJlc3BvbnNlOiB7CiAgICAgIGFjdGlvbjogJ2NvbXBsZXRlJywKICAgIH0KICB9Owp9CgpzY29wZS5nb29nbGUgPSBzY29wZS5nb29nbGUgfHwge307CnNjb3BlLmdvb2dsZS5jb2xhYiA9IHNjb3BlLmdvb2dsZS5jb2xhYiB8fCB7fTsKc2NvcGUuZ29vZ2xlLmNvbGFiLl9maWxlcyA9IHsKICBfdXBsb2FkRmlsZXMsCiAgX3VwbG9hZEZpbGVzQ29udGludWUsCn07Cn0pKHNlbGYpOwo=",
              "ok": true,
              "headers": [
                [
                  "content-type",
                  "application/javascript"
                ]
              ],
              "status": 200,
              "status_text": ""
            }
          },
          "base_uri": "https://localhost:8080/",
          "height": 86
        },
        "outputId": "c2044670-acb3-4c50-e4b5-7b3e0f0067b9"
      },
      "cell_type": "code",
      "source": [
        "from google.colab import files\n",
        "\n",
        "uploaded = files.upload()\n",
        "\n",
        "for fn in uploaded.keys():\n",
        "  print('User uploaded file \"{name}\" with length {length} bytes'.format(\n",
        "      name=fn, length=len(uploaded[fn])))"
      ],
      "execution_count": 2,
      "outputs": [
        {
          "output_type": "display_data",
          "data": {
            "text/plain": [
              "<IPython.core.display.HTML object>"
            ],
            "text/html": [
              "\n",
              "     <input type=\"file\" id=\"files-d3b4d50a-4945-495f-8d7c-ca83c4858e8d\" name=\"files[]\" multiple disabled />\n",
              "     <output id=\"result-d3b4d50a-4945-495f-8d7c-ca83c4858e8d\">\n",
              "      Upload widget is only available when the cell has been executed in the\n",
              "      current browser session. Please rerun this cell to enable.\n",
              "      </output>\n",
              "      <script src=\"/nbextensions/google.colab/files.js\"></script> "
            ]
          },
          "metadata": {
            "tags": []
          }
        },
        {
          "output_type": "stream",
          "text": [
            "Saving BA501_python_data.csv to BA501_python_data.csv\n",
            "User uploaded file \"BA501_python_data.csv\" with length 6058269 bytes\n"
          ],
          "name": "stdout"
        }
      ]
    },
    {
      "metadata": {
        "id": "qZbgDJ0tFZ09",
        "colab_type": "code",
        "colab": {}
      },
      "cell_type": "code",
      "source": [
        "import io\n",
        "\n",
        "my_data = pd.read_csv(io.StringIO(uploaded['BA501_python_data.csv'].decode('utf-8')))"
      ],
      "execution_count": 0,
      "outputs": []
    },
    {
      "metadata": {
        "id": "hiOx_f2ABHOZ",
        "colab_type": "code",
        "colab": {
          "base_uri": "https://localhost:8080/",
          "height": 34
        },
        "outputId": "ebb79cc5-10ec-43e2-b7ce-30cf318bcc17"
      },
      "cell_type": "code",
      "source": [
        "my_string = 'python'\n",
        "my_string_2 = my_string + 'is great!'\n",
        "my_string_2"
      ],
      "execution_count": 2,
      "outputs": [
        {
          "output_type": "execute_result",
          "data": {
            "text/plain": [
              "'pythonis great!'"
            ]
          },
          "metadata": {
            "tags": []
          },
          "execution_count": 2
        }
      ]
    },
    {
      "metadata": {
        "id": "kAL173vJCfJv",
        "colab_type": "code",
        "colab": {
          "base_uri": "https://localhost:8080/",
          "height": 34
        },
        "outputId": "01a6cab9-79c2-4de7-9b06-81edba55a83f"
      },
      "cell_type": "code",
      "source": [
        "str.upper(my_string)"
      ],
      "execution_count": 6,
      "outputs": [
        {
          "output_type": "execute_result",
          "data": {
            "text/plain": [
              "'PYTHON'"
            ]
          },
          "metadata": {
            "tags": []
          },
          "execution_count": 6
        }
      ]
    },
    {
      "metadata": {
        "id": "V0AKLHVlziJJ",
        "colab_type": "code",
        "colab": {
          "base_uri": "https://localhost:8080/",
          "height": 164
        },
        "outputId": "4644092a-304f-47e2-93f8-1f3ca72d070e"
      },
      "cell_type": "code",
      "source": [
        "str.find(\"other\")"
      ],
      "execution_count": 16,
      "outputs": [
        {
          "output_type": "error",
          "ename": "TypeError",
          "evalue": "ignored",
          "traceback": [
            "\u001b[0;31m\u001b[0m",
            "\u001b[0;31mTypeError\u001b[0mTraceback (most recent call last)",
            "\u001b[0;32m<ipython-input-16-0791601f98c9>\u001b[0m in \u001b[0;36m<module>\u001b[0;34m()\u001b[0m\n\u001b[0;32m----> 1\u001b[0;31m \u001b[0mstr\u001b[0m\u001b[0;34m.\u001b[0m\u001b[0mfind\u001b[0m\u001b[0;34m(\u001b[0m\u001b[0;34m\"other\"\u001b[0m\u001b[0;34m)\u001b[0m\u001b[0;34m\u001b[0m\u001b[0m\n\u001b[0m",
            "\u001b[0;31mTypeError\u001b[0m: find/rfind/index/rindex() takes at least 1 argument (0 given)"
          ]
        }
      ]
    },
    {
      "metadata": {
        "id": "mpgs1mhVzz5O",
        "colab_type": "code",
        "colab": {}
      },
      "cell_type": "code",
      "source": [
        ""
      ],
      "execution_count": 0,
      "outputs": []
    },
    {
      "metadata": {
        "id": "GP15IGOWzs-O",
        "colab_type": "code",
        "colab": {}
      },
      "cell_type": "code",
      "source": [
        ""
      ],
      "execution_count": 0,
      "outputs": []
    },
    {
      "metadata": {
        "id": "pC-hXZDDCygg",
        "colab_type": "code",
        "colab": {
          "base_uri": "https://localhost:8080/",
          "height": 34
        },
        "outputId": "beddee9a-c353-472d-e80a-c754a0befb5c"
      },
      "cell_type": "code",
      "source": [
        "colors = [\"red\", 'blue', 'green']\n",
        "colors[0]"
      ],
      "execution_count": 7,
      "outputs": [
        {
          "output_type": "execute_result",
          "data": {
            "text/plain": [
              "'red'"
            ]
          },
          "metadata": {
            "tags": []
          },
          "execution_count": 7
        }
      ]
    },
    {
      "metadata": {
        "id": "b0an3fCHDhUy",
        "colab_type": "code",
        "colab": {
          "base_uri": "https://localhost:8080/",
          "height": 34
        },
        "outputId": "6f2494af-5601-4fca-acc7-f26dbcd26e93"
      },
      "cell_type": "code",
      "source": [
        "len(colors)"
      ],
      "execution_count": 8,
      "outputs": [
        {
          "output_type": "execute_result",
          "data": {
            "text/plain": [
              "3"
            ]
          },
          "metadata": {
            "tags": []
          },
          "execution_count": 8
        }
      ]
    },
    {
      "metadata": {
        "id": "53BJIWI-Ehck",
        "colab_type": "code",
        "colab": {}
      },
      "cell_type": "code",
      "source": [
        "colors.append('yellow')"
      ],
      "execution_count": 0,
      "outputs": []
    },
    {
      "metadata": {
        "id": "OzHUNwPiElwP",
        "colab_type": "code",
        "colab": {
          "base_uri": "https://localhost:8080/",
          "height": 34
        },
        "outputId": "b2d5bee3-f2b4-45f0-e42e-98b277e0c56e"
      },
      "cell_type": "code",
      "source": [
        "colors"
      ],
      "execution_count": 11,
      "outputs": [
        {
          "output_type": "execute_result",
          "data": {
            "text/plain": [
              "['red', 'blue', 'green', 'yellow']"
            ]
          },
          "metadata": {
            "tags": []
          },
          "execution_count": 11
        }
      ]
    },
    {
      "metadata": {
        "id": "oVz-gorAEnWl",
        "colab_type": "code",
        "colab": {}
      },
      "cell_type": "code",
      "source": [
        "colors.insert(0,'purple')"
      ],
      "execution_count": 0,
      "outputs": []
    },
    {
      "metadata": {
        "id": "l7W1TkC6E7Qi",
        "colab_type": "code",
        "colab": {
          "base_uri": "https://localhost:8080/",
          "height": 34
        },
        "outputId": "cc89ce48-caf0-4c12-f278-57aa4cae5859"
      },
      "cell_type": "code",
      "source": [
        "colors"
      ],
      "execution_count": 13,
      "outputs": [
        {
          "output_type": "execute_result",
          "data": {
            "text/plain": [
              "['purple', 'red', 'blue', 'green', 'yellow']"
            ]
          },
          "metadata": {
            "tags": []
          },
          "execution_count": 13
        }
      ]
    },
    {
      "metadata": {
        "id": "yo5k0LyNE7_M",
        "colab_type": "code",
        "colab": {
          "base_uri": "https://localhost:8080/",
          "height": 34
        },
        "outputId": "17917f70-6374-4308-f4ab-dde2b3573271"
      },
      "cell_type": "code",
      "source": [
        "colors.pop(2)\n",
        "colors"
      ],
      "execution_count": 15,
      "outputs": [
        {
          "output_type": "execute_result",
          "data": {
            "text/plain": [
              "['purple', 'red', 'green']"
            ]
          },
          "metadata": {
            "tags": []
          },
          "execution_count": 15
        }
      ]
    },
    {
      "metadata": {
        "id": "4i66lZ0dFM2y",
        "colab_type": "code",
        "colab": {
          "base_uri": "https://localhost:8080/",
          "height": 34
        },
        "outputId": "41c78f6e-072f-48f4-ce91-045ba53ae9e5"
      },
      "cell_type": "code",
      "source": [
        "colors.index('green')"
      ],
      "execution_count": 16,
      "outputs": [
        {
          "output_type": "execute_result",
          "data": {
            "text/plain": [
              "2"
            ]
          },
          "metadata": {
            "tags": []
          },
          "execution_count": 16
        }
      ]
    },
    {
      "metadata": {
        "id": "b_T9mk3SFcvn",
        "colab_type": "code",
        "colab": {}
      },
      "cell_type": "code",
      "source": [
        "colors.sort()"
      ],
      "execution_count": 0,
      "outputs": []
    },
    {
      "metadata": {
        "id": "aKS9roUdFiys",
        "colab_type": "code",
        "colab": {
          "base_uri": "https://localhost:8080/",
          "height": 34
        },
        "outputId": "eb3af9ee-844e-4360-b76a-ed10aead38f2"
      },
      "cell_type": "code",
      "source": [
        "colors"
      ],
      "execution_count": 18,
      "outputs": [
        {
          "output_type": "execute_result",
          "data": {
            "text/plain": [
              "['green', 'purple', 'red']"
            ]
          },
          "metadata": {
            "tags": []
          },
          "execution_count": 18
        }
      ]
    },
    {
      "metadata": {
        "id": "BINyQ9U9Flo2",
        "colab_type": "code",
        "colab": {
          "base_uri": "https://localhost:8080/",
          "height": 34
        },
        "outputId": "925e6479-1cf6-4880-e4a1-03c307244777"
      },
      "cell_type": "code",
      "source": [
        "cc = '4175004175004172'\n",
        "if (cc[0] == '4') and (len(cc) == 16):\n",
        "  print('VISA')\n",
        "else\n",
        "  print (\"try again\")"
      ],
      "execution_count": 20,
      "outputs": [
        {
          "output_type": "stream",
          "text": [
            "VISA\n"
          ],
          "name": "stdout"
        }
      ]
    },
    {
      "metadata": {
        "id": "6m67wFhTIpfM",
        "colab_type": "code",
        "colab": {
          "base_uri": "https://localhost:8080/",
          "height": 34
        },
        "outputId": "90d1ee29-40e3-4b8d-93b4-8ec6b495af49"
      },
      "cell_type": "code",
      "source": [
        "cc = '4917491749174917'\n",
        "if (cc[0:1] == '34' or '37') and (len(cc) == 15):\n",
        "  print(\"AMEX\")\n",
        "if (cc[0:1] == '36') and (len(cc) == 14):\n",
        "  print('Diners Club')\n",
        "if (cc[0] == '4') and (len(cc) == 16):\n",
        "  if (cc[0:5] == '417500'):\n",
        "    print('VISAELECTRO')\n",
        "  if (cc[0:3] == '4026' or '4405' or '4508' or '4844' or '4913' or '4917'):\n",
        "    print('VISAELECTRO')\n",
        "  else:\n",
        "    print(\"VISA\")"
      ],
      "execution_count": 25,
      "outputs": [
        {
          "output_type": "stream",
          "text": [
            "VISAELECTRO\n"
          ],
          "name": "stdout"
        }
      ]
    },
    {
      "metadata": {
        "id": "zEzdYA4W7u-V",
        "colab_type": "code",
        "colab": {
          "base_uri": "https://localhost:8080/",
          "height": 170
        },
        "outputId": "441d1f62-0e9e-471f-e8fd-7bb62eb0328d"
      },
      "cell_type": "code",
      "source": [
        "creditCards = ['4175004175004172','4917491749174917','346416800707698','376416800707698','37641680070769832112','36641680070769','54545641680070769']\n",
        "\n",
        "for cc in creditCards:\n",
        "  if (cc[0:1] == '34' or '37') and (len(cc) == 15):\n",
        "    print(\"AMEX\")\n",
        "  if (cc[0:1] == '36') and (len(cc) == 14):\n",
        "    print('Diners Club')\n",
        "  if (cc[0] == '4') and (len(cc) == 16):\n",
        "    if (cc[0:5] == '417500'):\n",
        "      print('VISAELECTRO')\n",
        "    if (cc[0:3] == '4026' or '4405' or '4508' or '4844' or '4913' or '4917'):\n",
        "      print('VISAELECTRO')\n",
        "  else:\n",
        "      print(\"VISA\")"
      ],
      "execution_count": 8,
      "outputs": [
        {
          "output_type": "stream",
          "text": [
            "VISAELECTRO\n",
            "VISAELECTRO\n",
            "AMEX\n",
            "VISA\n",
            "AMEX\n",
            "VISA\n",
            "VISA\n",
            "VISA\n",
            "VISA\n"
          ],
          "name": "stdout"
        }
      ]
    },
    {
      "metadata": {
        "id": "j5faS4luMDSn",
        "colab_type": "code",
        "colab": {}
      },
      "cell_type": "code",
      "source": [
        "import numpy as np"
      ],
      "execution_count": 0,
      "outputs": []
    },
    {
      "metadata": {
        "id": "MZSMGmI_8BR6",
        "colab_type": "code",
        "colab": {}
      },
      "cell_type": "code",
      "source": [
        "my_array = np.array([1,2,3,4])"
      ],
      "execution_count": 0,
      "outputs": []
    },
    {
      "metadata": {
        "id": "GOdqld8L8WBG",
        "colab_type": "code",
        "colab": {
          "base_uri": "https://localhost:8080/",
          "height": 34
        },
        "outputId": "0e2b223a-15b6-44ca-e95e-cd781a1ae388"
      },
      "cell_type": "code",
      "source": [
        "my_array"
      ],
      "execution_count": 3,
      "outputs": [
        {
          "output_type": "execute_result",
          "data": {
            "text/plain": [
              "array([1, 2, 3, 4])"
            ]
          },
          "metadata": {
            "tags": []
          },
          "execution_count": 3
        }
      ]
    },
    {
      "metadata": {
        "id": "tX3NIk4T8XaI",
        "colab_type": "code",
        "colab": {
          "base_uri": "https://localhost:8080/",
          "height": 34
        },
        "outputId": "dd0d3471-42e8-4900-86b6-6f2f01348279"
      },
      "cell_type": "code",
      "source": [
        "my_list = [1,2,3,4]\n",
        "my_list"
      ],
      "execution_count": 2,
      "outputs": [
        {
          "output_type": "execute_result",
          "data": {
            "text/plain": [
              "[1, 2, 3, 4]"
            ]
          },
          "metadata": {
            "tags": []
          },
          "execution_count": 2
        }
      ]
    },
    {
      "metadata": {
        "id": "x-ECrp_1q6aG",
        "colab_type": "code",
        "colab": {}
      },
      "cell_type": "code",
      "source": [
        ""
      ],
      "execution_count": 0,
      "outputs": []
    },
    {
      "metadata": {
        "id": "HhmKpCgKq0Mz",
        "colab_type": "code",
        "colab": {
          "base_uri": "https://localhost:8080/",
          "height": 34
        },
        "outputId": "dd0def1f-2d68-47db-ae97-e2ae973af144"
      },
      "cell_type": "code",
      "source": [
        "my_list[1]"
      ],
      "execution_count": 3,
      "outputs": [
        {
          "output_type": "execute_result",
          "data": {
            "text/plain": [
              "2"
            ]
          },
          "metadata": {
            "tags": []
          },
          "execution_count": 3
        }
      ]
    },
    {
      "metadata": {
        "id": "yAJUbBmQq7bJ",
        "colab_type": "code",
        "colab": {}
      },
      "cell_type": "code",
      "source": [
        ""
      ],
      "execution_count": 0,
      "outputs": []
    },
    {
      "metadata": {
        "id": "gHeQwx-8q2sG",
        "colab_type": "code",
        "colab": {}
      },
      "cell_type": "code",
      "source": [
        ""
      ],
      "execution_count": 0,
      "outputs": []
    },
    {
      "metadata": {
        "id": "-qLWk6oQ85Zh",
        "colab_type": "code",
        "colab": {
          "base_uri": "https://localhost:8080/",
          "height": 34
        },
        "outputId": "5cbc9dc7-7772-4b83-abf7-ecd795a42ab7"
      },
      "cell_type": "code",
      "source": [
        "len(my_array)"
      ],
      "execution_count": 5,
      "outputs": [
        {
          "output_type": "execute_result",
          "data": {
            "text/plain": [
              "4"
            ]
          },
          "metadata": {
            "tags": []
          },
          "execution_count": 5
        }
      ]
    },
    {
      "metadata": {
        "id": "Oh1vIeAg9FuB",
        "colab_type": "code",
        "colab": {
          "base_uri": "https://localhost:8080/",
          "height": 34
        },
        "outputId": "05ee66d5-0052-4dac-d37b-0821ff069d55"
      },
      "cell_type": "code",
      "source": [
        "my_array.sum()\n"
      ],
      "execution_count": 6,
      "outputs": [
        {
          "output_type": "execute_result",
          "data": {
            "text/plain": [
              "10"
            ]
          },
          "metadata": {
            "tags": []
          },
          "execution_count": 6
        }
      ]
    },
    {
      "metadata": {
        "id": "qNVCRwvV9Up6",
        "colab_type": "code",
        "colab": {
          "base_uri": "https://localhost:8080/",
          "height": 34
        },
        "outputId": "637f2531-1104-47c6-dd1d-ed5944e924e9"
      },
      "cell_type": "code",
      "source": [
        "np.unique(my_array)"
      ],
      "execution_count": 7,
      "outputs": [
        {
          "output_type": "execute_result",
          "data": {
            "text/plain": [
              "array([1, 2, 3, 4])"
            ]
          },
          "metadata": {
            "tags": []
          },
          "execution_count": 7
        }
      ]
    },
    {
      "metadata": {
        "id": "K0WZoHhm-AO1",
        "colab_type": "code",
        "colab": {}
      },
      "cell_type": "code",
      "source": [
        "my_array_2 = np.append(my_array, [4,6,7])"
      ],
      "execution_count": 0,
      "outputs": []
    },
    {
      "metadata": {
        "id": "RzZH0quR-X4H",
        "colab_type": "code",
        "colab": {
          "base_uri": "https://localhost:8080/",
          "height": 34
        },
        "outputId": "f2b87a5e-5b92-4658-b756-2c75b854fe4d"
      },
      "cell_type": "code",
      "source": [
        "my_array_2"
      ],
      "execution_count": 13,
      "outputs": [
        {
          "output_type": "execute_result",
          "data": {
            "text/plain": [
              "array([1, 2, 3, 4, 4, 6, 7])"
            ]
          },
          "metadata": {
            "tags": []
          },
          "execution_count": 13
        }
      ]
    },
    {
      "metadata": {
        "id": "FKF5aqkK-Zcl",
        "colab_type": "code",
        "colab": {
          "base_uri": "https://localhost:8080/",
          "height": 34
        },
        "outputId": "ed691e2b-74fe-4c5f-b5ed-647124b0bef9"
      },
      "cell_type": "code",
      "source": [
        "np.unique(my_array_2)"
      ],
      "execution_count": 14,
      "outputs": [
        {
          "output_type": "execute_result",
          "data": {
            "text/plain": [
              "array([1, 2, 3, 4, 6, 7])"
            ]
          },
          "metadata": {
            "tags": []
          },
          "execution_count": 14
        }
      ]
    },
    {
      "metadata": {
        "id": "21-QOsAo-cEt",
        "colab_type": "code",
        "colab": {
          "base_uri": "https://localhost:8080/",
          "height": 34
        },
        "outputId": "f68139a7-4a33-4d7b-a972-f901269de0da"
      },
      "cell_type": "code",
      "source": [
        "np.insert(my_array,2,2)"
      ],
      "execution_count": 15,
      "outputs": [
        {
          "output_type": "execute_result",
          "data": {
            "text/plain": [
              "array([1, 2, 2, 3, 4])"
            ]
          },
          "metadata": {
            "tags": []
          },
          "execution_count": 15
        }
      ]
    },
    {
      "metadata": {
        "id": "qVrTHi_1-hkz",
        "colab_type": "code",
        "colab": {
          "base_uri": "https://localhost:8080/",
          "height": 34
        },
        "outputId": "4cbc2656-545c-4f78-bcd3-706c5cbfc76f"
      },
      "cell_type": "code",
      "source": [
        "np.delete(my_array,[1])"
      ],
      "execution_count": 16,
      "outputs": [
        {
          "output_type": "execute_result",
          "data": {
            "text/plain": [
              "array([1, 3, 4])"
            ]
          },
          "metadata": {
            "tags": []
          },
          "execution_count": 16
        }
      ]
    },
    {
      "metadata": {
        "id": "VKm21ASc-zd-",
        "colab_type": "code",
        "colab": {
          "base_uri": "https://localhost:8080/",
          "height": 34
        },
        "outputId": "70617d91-143e-4009-aa97-ccfa03613c72"
      },
      "cell_type": "code",
      "source": [
        "my_array_2"
      ],
      "execution_count": 17,
      "outputs": [
        {
          "output_type": "execute_result",
          "data": {
            "text/plain": [
              "array([1, 2, 3, 4, 4, 6, 7])"
            ]
          },
          "metadata": {
            "tags": []
          },
          "execution_count": 17
        }
      ]
    },
    {
      "metadata": {
        "id": "9wzfzEq9--Na",
        "colab_type": "code",
        "colab": {
          "base_uri": "https://localhost:8080/",
          "height": 34
        },
        "outputId": "464872a6-cb26-427e-efb4-924b3c28fb1e"
      },
      "cell_type": "code",
      "source": [
        "np.unique(my_array_2)"
      ],
      "execution_count": 18,
      "outputs": [
        {
          "output_type": "execute_result",
          "data": {
            "text/plain": [
              "array([1, 2, 3, 4, 6, 7])"
            ]
          },
          "metadata": {
            "tags": []
          },
          "execution_count": 18
        }
      ]
    },
    {
      "metadata": {
        "id": "ozYWn598_Db0",
        "colab_type": "code",
        "colab": {
          "base_uri": "https://localhost:8080/",
          "height": 88
        },
        "outputId": "b290ee0e-817a-4179-b142-754058ec005b"
      },
      "cell_type": "code",
      "source": [
        "np.delete(my_array_2, np.unique(my_array_2))"
      ],
      "execution_count": 20,
      "outputs": [
        {
          "output_type": "stream",
          "text": [
            "/usr/local/lib/python2.7/dist-packages/ipykernel_launcher.py:1: DeprecationWarning: in the future out of bounds indices will raise an error instead of being ignored by `numpy.delete`.\n",
            "  \"\"\"Entry point for launching an IPython kernel.\n"
          ],
          "name": "stderr"
        },
        {
          "output_type": "execute_result",
          "data": {
            "text/plain": [
              "array([1, 6])"
            ]
          },
          "metadata": {
            "tags": []
          },
          "execution_count": 20
        }
      ]
    },
    {
      "metadata": {
        "id": "dW5nx2tj_T8d",
        "colab_type": "code",
        "colab": {
          "base_uri": "https://localhost:8080/",
          "height": 34
        },
        "outputId": "553906f1-4c5b-496f-9076-325699a54b72"
      },
      "cell_type": "code",
      "source": [
        "np.insert(my_array,3,1)"
      ],
      "execution_count": 21,
      "outputs": [
        {
          "output_type": "execute_result",
          "data": {
            "text/plain": [
              "array([1, 2, 3, 1, 4])"
            ]
          },
          "metadata": {
            "tags": []
          },
          "execution_count": 21
        }
      ]
    },
    {
      "metadata": {
        "id": "c8miJNAW_rho",
        "colab_type": "code",
        "colab": {}
      },
      "cell_type": "code",
      "source": [
        "import pandas as pd"
      ],
      "execution_count": 0,
      "outputs": []
    },
    {
      "metadata": {
        "id": "8U9PkZd2D91o",
        "colab_type": "code",
        "colab": {}
      },
      "cell_type": "code",
      "source": [
        "df = pd. DataFrame(\n",
        "\t   {\"a\": [4,5,6], \"b\":[7,8,9], \"c\":[10,11,12]}, index = [1,2,3])\n"
      ],
      "execution_count": 0,
      "outputs": []
    },
    {
      "metadata": {
        "id": "J_NSd9zdECHd",
        "colab_type": "code",
        "colab": {
          "base_uri": "https://localhost:8080/",
          "height": 142
        },
        "outputId": "3301238d-8fdf-4e97-d304-04d00b31e059"
      },
      "cell_type": "code",
      "source": [
        "df"
      ],
      "execution_count": 16,
      "outputs": [
        {
          "output_type": "execute_result",
          "data": {
            "text/html": [
              "<div>\n",
              "<style scoped>\n",
              "    .dataframe tbody tr th:only-of-type {\n",
              "        vertical-align: middle;\n",
              "    }\n",
              "\n",
              "    .dataframe tbody tr th {\n",
              "        vertical-align: top;\n",
              "    }\n",
              "\n",
              "    .dataframe thead th {\n",
              "        text-align: right;\n",
              "    }\n",
              "</style>\n",
              "<table border=\"1\" class=\"dataframe\">\n",
              "  <thead>\n",
              "    <tr style=\"text-align: right;\">\n",
              "      <th></th>\n",
              "      <th>a</th>\n",
              "      <th>b</th>\n",
              "      <th>c</th>\n",
              "    </tr>\n",
              "  </thead>\n",
              "  <tbody>\n",
              "    <tr>\n",
              "      <th>1</th>\n",
              "      <td>4</td>\n",
              "      <td>7</td>\n",
              "      <td>10</td>\n",
              "    </tr>\n",
              "    <tr>\n",
              "      <th>2</th>\n",
              "      <td>5</td>\n",
              "      <td>8</td>\n",
              "      <td>11</td>\n",
              "    </tr>\n",
              "    <tr>\n",
              "      <th>3</th>\n",
              "      <td>6</td>\n",
              "      <td>9</td>\n",
              "      <td>12</td>\n",
              "    </tr>\n",
              "  </tbody>\n",
              "</table>\n",
              "</div>"
            ],
            "text/plain": [
              "   a  b   c\n",
              "1  4  7  10\n",
              "2  5  8  11\n",
              "3  6  9  12"
            ]
          },
          "metadata": {
            "tags": []
          },
          "execution_count": 16
        }
      ]
    },
    {
      "metadata": {
        "id": "jziVy8hUu5WR",
        "colab_type": "code",
        "colab": {}
      },
      "cell_type": "code",
      "source": [
        "import pandas as pd"
      ],
      "execution_count": 0,
      "outputs": []
    },
    {
      "metadata": {
        "id": "t1GrUd7Xu8r7",
        "colab_type": "code",
        "colab": {}
      },
      "cell_type": "code",
      "source": [
        ""
      ],
      "execution_count": 0,
      "outputs": []
    },
    {
      "metadata": {
        "id": "vZ6zA4p0qNyo",
        "colab_type": "code",
        "colab": {
          "resources": {
            "http://localhost:8080/nbextensions/google.colab/files.js": {
              "data": "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",
              "ok": true,
              "headers": [
                [
                  "content-type",
                  "application/javascript"
                ]
              ],
              "status": 200,
              "status_text": ""
            }
          },
          "base_uri": "https://localhost:8080/",
          "height": 86
        },
        "outputId": "47bec500-595a-4689-c595-5e3f14b45e89"
      },
      "cell_type": "code",
      "source": [
        "from google.colab import files\n",
        "\n",
        "uploaded = files.upload()\n",
        "\n",
        "for fn in uploaded.keys():\n",
        "  print('User uploaded file \"{name}\" with length {length} bytes'.format(\n",
        "      name=fn, length=len(uploaded[fn])))"
      ],
      "execution_count": 14,
      "outputs": [
        {
          "output_type": "display_data",
          "data": {
            "text/plain": [
              "<IPython.core.display.HTML object>"
            ],
            "text/html": [
              "\n",
              "     <input type=\"file\" id=\"files-1cf92c99-e520-47db-83b8-1fd8cd97bcbc\" name=\"files[]\" multiple disabled />\n",
              "     <output id=\"result-1cf92c99-e520-47db-83b8-1fd8cd97bcbc\">\n",
              "      Upload widget is only available when the cell has been executed in the\n",
              "      current browser session. Please rerun this cell to enable.\n",
              "      </output>\n",
              "      <script src=\"/nbextensions/google.colab/files.js\"></script> "
            ]
          },
          "metadata": {
            "tags": []
          }
        },
        {
          "output_type": "stream",
          "text": [
            "Saving BA501_python_data.csv to BA501_python_data.csv\n",
            "User uploaded file \"BA501_python_data.csv\" with length 6058269 bytes\n"
          ],
          "name": "stdout"
        }
      ]
    },
    {
      "metadata": {
        "id": "MAabE0JVqQ2d",
        "colab_type": "code",
        "colab": {}
      },
      "cell_type": "code",
      "source": [
        "import io\n",
        "\n",
        "my_data = pd.read_csv(io.StringIO(uploaded['BA501_python_data.csv'].decode('utf-8')))"
      ],
      "execution_count": 0,
      "outputs": []
    },
    {
      "metadata": {
        "id": "Kpej6bCfu-Ya",
        "colab_type": "code",
        "colab": {
          "base_uri": "https://localhost:8080/",
          "height": 224
        },
        "outputId": "04675440-fd3e-494f-c976-7676c1a5360c"
      },
      "cell_type": "code",
      "source": [
        "my_data.head(5)"
      ],
      "execution_count": 16,
      "outputs": [
        {
          "output_type": "execute_result",
          "data": {
            "text/html": [
              "<div>\n",
              "<style scoped>\n",
              "    .dataframe tbody tr th:only-of-type {\n",
              "        vertical-align: middle;\n",
              "    }\n",
              "\n",
              "    .dataframe tbody tr th {\n",
              "        vertical-align: top;\n",
              "    }\n",
              "\n",
              "    .dataframe thead th {\n",
              "        text-align: right;\n",
              "    }\n",
              "</style>\n",
              "<table border=\"1\" class=\"dataframe\">\n",
              "  <thead>\n",
              "    <tr style=\"text-align: right;\">\n",
              "      <th></th>\n",
              "      <th>country</th>\n",
              "      <th>date</th>\n",
              "      <th>experiment_id</th>\n",
              "      <th>order_id</th>\n",
              "      <th>spend_usd</th>\n",
              "      <th>user_id</th>\n",
              "      <th>vertical</th>\n",
              "    </tr>\n",
              "  </thead>\n",
              "  <tbody>\n",
              "    <tr>\n",
              "      <th>0</th>\n",
              "      <td>JP</td>\n",
              "      <td>20170402</td>\n",
              "      <td>12624548</td>\n",
              "      <td>5813140433216629693</td>\n",
              "      <td>16.138855</td>\n",
              "      <td>5006730028073359543</td>\n",
              "      <td>ANDROID_APPS</td>\n",
              "    </tr>\n",
              "    <tr>\n",
              "      <th>1</th>\n",
              "      <td>US</td>\n",
              "      <td>20170403</td>\n",
              "      <td>12624549</td>\n",
              "      <td>16333056276711034931</td>\n",
              "      <td>9.990000</td>\n",
              "      <td>5938685669571545259</td>\n",
              "      <td>ANDROID_APPS</td>\n",
              "    </tr>\n",
              "    <tr>\n",
              "      <th>2</th>\n",
              "      <td>JP</td>\n",
              "      <td>20170404</td>\n",
              "      <td>12624548</td>\n",
              "      <td>11227119161741298366</td>\n",
              "      <td>19.887087</td>\n",
              "      <td>17623708458399141713</td>\n",
              "      <td>ANDROID_APPS</td>\n",
              "    </tr>\n",
              "    <tr>\n",
              "      <th>3</th>\n",
              "      <td>US</td>\n",
              "      <td>20170403</td>\n",
              "      <td>12624548</td>\n",
              "      <td>11927299833124210932</td>\n",
              "      <td>19.990000</td>\n",
              "      <td>18042812344456618148</td>\n",
              "      <td>ANDROID_APPS</td>\n",
              "    </tr>\n",
              "    <tr>\n",
              "      <th>4</th>\n",
              "      <td>JP</td>\n",
              "      <td>20170403</td>\n",
              "      <td>12624549</td>\n",
              "      <td>11644727017708872749</td>\n",
              "      <td>88.220093</td>\n",
              "      <td>4325104700699531031</td>\n",
              "      <td>ANDROID_APPS</td>\n",
              "    </tr>\n",
              "  </tbody>\n",
              "</table>\n",
              "</div>"
            ],
            "text/plain": [
              "  country      date  experiment_id              order_id  spend_usd  \\\n",
              "0      JP  20170402       12624548   5813140433216629693  16.138855   \n",
              "1      US  20170403       12624549  16333056276711034931   9.990000   \n",
              "2      JP  20170404       12624548  11227119161741298366  19.887087   \n",
              "3      US  20170403       12624548  11927299833124210932  19.990000   \n",
              "4      JP  20170403       12624549  11644727017708872749  88.220093   \n",
              "\n",
              "                user_id      vertical  \n",
              "0   5006730028073359543  ANDROID_APPS  \n",
              "1   5938685669571545259  ANDROID_APPS  \n",
              "2  17623708458399141713  ANDROID_APPS  \n",
              "3  18042812344456618148  ANDROID_APPS  \n",
              "4   4325104700699531031  ANDROID_APPS  "
            ]
          },
          "metadata": {
            "tags": []
          },
          "execution_count": 16
        }
      ]
    },
    {
      "metadata": {
        "id": "l6YpvW32vGy0",
        "colab_type": "code",
        "colab": {
          "base_uri": "https://localhost:8080/",
          "height": 297
        },
        "outputId": "b19c79bc-956e-47d7-9b38-a9a277f5da86"
      },
      "cell_type": "code",
      "source": [
        "my_data.describe()"
      ],
      "execution_count": 35,
      "outputs": [
        {
          "output_type": "execute_result",
          "data": {
            "text/html": [
              "<div>\n",
              "<style scoped>\n",
              "    .dataframe tbody tr th:only-of-type {\n",
              "        vertical-align: middle;\n",
              "    }\n",
              "\n",
              "    .dataframe tbody tr th {\n",
              "        vertical-align: top;\n",
              "    }\n",
              "\n",
              "    .dataframe thead th {\n",
              "        text-align: right;\n",
              "    }\n",
              "</style>\n",
              "<table border=\"1\" class=\"dataframe\">\n",
              "  <thead>\n",
              "    <tr style=\"text-align: right;\">\n",
              "      <th></th>\n",
              "      <th>date</th>\n",
              "      <th>experiment_id</th>\n",
              "      <th>order_id</th>\n",
              "      <th>spend_usd</th>\n",
              "      <th>user_id</th>\n",
              "    </tr>\n",
              "  </thead>\n",
              "  <tbody>\n",
              "    <tr>\n",
              "      <th>count</th>\n",
              "      <td>7.391000e+04</td>\n",
              "      <td>7.391000e+04</td>\n",
              "      <td>7.391000e+04</td>\n",
              "      <td>73910.000000</td>\n",
              "      <td>7.391000e+04</td>\n",
              "    </tr>\n",
              "    <tr>\n",
              "      <th>mean</th>\n",
              "      <td>2.017040e+07</td>\n",
              "      <td>1.262455e+07</td>\n",
              "      <td>9.221341e+18</td>\n",
              "      <td>10.723280</td>\n",
              "      <td>9.108707e+18</td>\n",
              "    </tr>\n",
              "    <tr>\n",
              "      <th>std</th>\n",
              "      <td>2.078068e+00</td>\n",
              "      <td>4.999888e-01</td>\n",
              "      <td>5.340852e+18</td>\n",
              "      <td>18.550516</td>\n",
              "      <td>5.296994e+18</td>\n",
              "    </tr>\n",
              "    <tr>\n",
              "      <th>min</th>\n",
              "      <td>2.017040e+07</td>\n",
              "      <td>1.262455e+07</td>\n",
              "      <td>6.764357e+13</td>\n",
              "      <td>0.000375</td>\n",
              "      <td>3.359578e+15</td>\n",
              "    </tr>\n",
              "    <tr>\n",
              "      <th>25%</th>\n",
              "      <td>2.017040e+07</td>\n",
              "      <td>1.262455e+07</td>\n",
              "      <td>4.570153e+18</td>\n",
              "      <td>1.809439</td>\n",
              "      <td>4.540358e+18</td>\n",
              "    </tr>\n",
              "    <tr>\n",
              "      <th>50%</th>\n",
              "      <td>2.017040e+07</td>\n",
              "      <td>1.262455e+07</td>\n",
              "      <td>9.206029e+18</td>\n",
              "      <td>4.946641</td>\n",
              "      <td>9.056793e+18</td>\n",
              "    </tr>\n",
              "    <tr>\n",
              "      <th>75%</th>\n",
              "      <td>2.017041e+07</td>\n",
              "      <td>1.262455e+07</td>\n",
              "      <td>1.383900e+19</td>\n",
              "      <td>9.990000</td>\n",
              "      <td>1.363822e+19</td>\n",
              "    </tr>\n",
              "    <tr>\n",
              "      <th>max</th>\n",
              "      <td>2.017041e+07</td>\n",
              "      <td>1.262455e+07</td>\n",
              "      <td>1.844652e+19</td>\n",
              "      <td>299.990000</td>\n",
              "      <td>1.844649e+19</td>\n",
              "    </tr>\n",
              "  </tbody>\n",
              "</table>\n",
              "</div>"
            ],
            "text/plain": [
              "               date  experiment_id      order_id     spend_usd       user_id\n",
              "count  7.391000e+04   7.391000e+04  7.391000e+04  73910.000000  7.391000e+04\n",
              "mean   2.017040e+07   1.262455e+07  9.221341e+18     10.723280  9.108707e+18\n",
              "std    2.078068e+00   4.999888e-01  5.340852e+18     18.550516  5.296994e+18\n",
              "min    2.017040e+07   1.262455e+07  6.764357e+13      0.000375  3.359578e+15\n",
              "25%    2.017040e+07   1.262455e+07  4.570153e+18      1.809439  4.540358e+18\n",
              "50%    2.017040e+07   1.262455e+07  9.206029e+18      4.946641  9.056793e+18\n",
              "75%    2.017041e+07   1.262455e+07  1.383900e+19      9.990000  1.363822e+19\n",
              "max    2.017041e+07   1.262455e+07  1.844652e+19    299.990000  1.844649e+19"
            ]
          },
          "metadata": {
            "tags": []
          },
          "execution_count": 35
        }
      ]
    },
    {
      "metadata": {
        "id": "CuySDC_OvRz7",
        "colab_type": "code",
        "colab": {
          "base_uri": "https://localhost:8080/",
          "height": 34
        },
        "outputId": "23c516b8-3bc7-45d0-c41b-c4d2a264f7f7"
      },
      "cell_type": "code",
      "source": [
        "my_data.shape"
      ],
      "execution_count": 36,
      "outputs": [
        {
          "output_type": "execute_result",
          "data": {
            "text/plain": [
              "(73910, 7)"
            ]
          },
          "metadata": {
            "tags": []
          },
          "execution_count": 36
        }
      ]
    },
    {
      "metadata": {
        "id": "LhxvlpPFvXGT",
        "colab_type": "code",
        "colab": {
          "base_uri": "https://localhost:8080/",
          "height": 204
        },
        "outputId": "ae7cc02b-ea78-426e-b404-0ab9d45f72f0"
      },
      "cell_type": "code",
      "source": [
        "my_data[[\"date\",\"order_id\",\"spend_usd\",\"country\"]][my_data.country == \"JP\"].head(5)"
      ],
      "execution_count": 37,
      "outputs": [
        {
          "output_type": "execute_result",
          "data": {
            "text/html": [
              "<div>\n",
              "<style scoped>\n",
              "    .dataframe tbody tr th:only-of-type {\n",
              "        vertical-align: middle;\n",
              "    }\n",
              "\n",
              "    .dataframe tbody tr th {\n",
              "        vertical-align: top;\n",
              "    }\n",
              "\n",
              "    .dataframe thead th {\n",
              "        text-align: right;\n",
              "    }\n",
              "</style>\n",
              "<table border=\"1\" class=\"dataframe\">\n",
              "  <thead>\n",
              "    <tr style=\"text-align: right;\">\n",
              "      <th></th>\n",
              "      <th>date</th>\n",
              "      <th>order_id</th>\n",
              "      <th>spend_usd</th>\n",
              "      <th>country</th>\n",
              "    </tr>\n",
              "  </thead>\n",
              "  <tbody>\n",
              "    <tr>\n",
              "      <th>0</th>\n",
              "      <td>20170402</td>\n",
              "      <td>5813140433216629693</td>\n",
              "      <td>16.138855</td>\n",
              "      <td>JP</td>\n",
              "    </tr>\n",
              "    <tr>\n",
              "      <th>2</th>\n",
              "      <td>20170404</td>\n",
              "      <td>11227119161741298366</td>\n",
              "      <td>19.887087</td>\n",
              "      <td>JP</td>\n",
              "    </tr>\n",
              "    <tr>\n",
              "      <th>4</th>\n",
              "      <td>20170403</td>\n",
              "      <td>11644727017708872749</td>\n",
              "      <td>88.220093</td>\n",
              "      <td>JP</td>\n",
              "    </tr>\n",
              "    <tr>\n",
              "      <th>12</th>\n",
              "      <td>20170402</td>\n",
              "      <td>1931426249776431110</td>\n",
              "      <td>5.379618</td>\n",
              "      <td>JP</td>\n",
              "    </tr>\n",
              "    <tr>\n",
              "      <th>41</th>\n",
              "      <td>20170401</td>\n",
              "      <td>7104670035152263784</td>\n",
              "      <td>5.379618</td>\n",
              "      <td>JP</td>\n",
              "    </tr>\n",
              "  </tbody>\n",
              "</table>\n",
              "</div>"
            ],
            "text/plain": [
              "        date              order_id  spend_usd country\n",
              "0   20170402   5813140433216629693  16.138855      JP\n",
              "2   20170404  11227119161741298366  19.887087      JP\n",
              "4   20170403  11644727017708872749  88.220093      JP\n",
              "12  20170402   1931426249776431110   5.379618      JP\n",
              "41  20170401   7104670035152263784   5.379618      JP"
            ]
          },
          "metadata": {
            "tags": []
          },
          "execution_count": 37
        }
      ]
    },
    {
      "metadata": {
        "id": "d9PrNmtxwFYW",
        "colab_type": "code",
        "colab": {}
      },
      "cell_type": "code",
      "source": [
        "my_data[\"5spend_usd\"] = my_data[\"spend_usd\"]*5"
      ],
      "execution_count": 0,
      "outputs": []
    },
    {
      "metadata": {
        "id": "fSac5LCswR78",
        "colab_type": "code",
        "colab": {
          "base_uri": "https://localhost:8080/",
          "height": 224
        },
        "outputId": "176c6ec3-42b4-4bb0-d214-d13f7b725af5"
      },
      "cell_type": "code",
      "source": [
        "my_data.head(5)"
      ],
      "execution_count": 39,
      "outputs": [
        {
          "output_type": "execute_result",
          "data": {
            "text/html": [
              "<div>\n",
              "<style scoped>\n",
              "    .dataframe tbody tr th:only-of-type {\n",
              "        vertical-align: middle;\n",
              "    }\n",
              "\n",
              "    .dataframe tbody tr th {\n",
              "        vertical-align: top;\n",
              "    }\n",
              "\n",
              "    .dataframe thead th {\n",
              "        text-align: right;\n",
              "    }\n",
              "</style>\n",
              "<table border=\"1\" class=\"dataframe\">\n",
              "  <thead>\n",
              "    <tr style=\"text-align: right;\">\n",
              "      <th></th>\n",
              "      <th>country</th>\n",
              "      <th>date</th>\n",
              "      <th>experiment_id</th>\n",
              "      <th>order_id</th>\n",
              "      <th>spend_usd</th>\n",
              "      <th>user_id</th>\n",
              "      <th>vertical</th>\n",
              "      <th>5spend_usd</th>\n",
              "    </tr>\n",
              "  </thead>\n",
              "  <tbody>\n",
              "    <tr>\n",
              "      <th>0</th>\n",
              "      <td>JP</td>\n",
              "      <td>20170402</td>\n",
              "      <td>12624548</td>\n",
              "      <td>5813140433216629693</td>\n",
              "      <td>16.138855</td>\n",
              "      <td>5006730028073359543</td>\n",
              "      <td>ANDROID_APPS</td>\n",
              "      <td>80.694275</td>\n",
              "    </tr>\n",
              "    <tr>\n",
              "      <th>1</th>\n",
              "      <td>US</td>\n",
              "      <td>20170403</td>\n",
              "      <td>12624549</td>\n",
              "      <td>16333056276711034931</td>\n",
              "      <td>9.990000</td>\n",
              "      <td>5938685669571545259</td>\n",
              "      <td>ANDROID_APPS</td>\n",
              "      <td>49.950000</td>\n",
              "    </tr>\n",
              "    <tr>\n",
              "      <th>2</th>\n",
              "      <td>JP</td>\n",
              "      <td>20170404</td>\n",
              "      <td>12624548</td>\n",
              "      <td>11227119161741298366</td>\n",
              "      <td>19.887087</td>\n",
              "      <td>17623708458399141713</td>\n",
              "      <td>ANDROID_APPS</td>\n",
              "      <td>99.435435</td>\n",
              "    </tr>\n",
              "    <tr>\n",
              "      <th>3</th>\n",
              "      <td>US</td>\n",
              "      <td>20170403</td>\n",
              "      <td>12624548</td>\n",
              "      <td>11927299833124210932</td>\n",
              "      <td>19.990000</td>\n",
              "      <td>18042812344456618148</td>\n",
              "      <td>ANDROID_APPS</td>\n",
              "      <td>99.950000</td>\n",
              "    </tr>\n",
              "    <tr>\n",
              "      <th>4</th>\n",
              "      <td>JP</td>\n",
              "      <td>20170403</td>\n",
              "      <td>12624549</td>\n",
              "      <td>11644727017708872749</td>\n",
              "      <td>88.220093</td>\n",
              "      <td>4325104700699531031</td>\n",
              "      <td>ANDROID_APPS</td>\n",
              "      <td>441.100465</td>\n",
              "    </tr>\n",
              "  </tbody>\n",
              "</table>\n",
              "</div>"
            ],
            "text/plain": [
              "  country      date  experiment_id              order_id  spend_usd  \\\n",
              "0      JP  20170402       12624548   5813140433216629693  16.138855   \n",
              "1      US  20170403       12624549  16333056276711034931   9.990000   \n",
              "2      JP  20170404       12624548  11227119161741298366  19.887087   \n",
              "3      US  20170403       12624548  11927299833124210932  19.990000   \n",
              "4      JP  20170403       12624549  11644727017708872749  88.220093   \n",
              "\n",
              "                user_id      vertical  5spend_usd  \n",
              "0   5006730028073359543  ANDROID_APPS   80.694275  \n",
              "1   5938685669571545259  ANDROID_APPS   49.950000  \n",
              "2  17623708458399141713  ANDROID_APPS   99.435435  \n",
              "3  18042812344456618148  ANDROID_APPS   99.950000  \n",
              "4   4325104700699531031  ANDROID_APPS  441.100465  "
            ]
          },
          "metadata": {
            "tags": []
          },
          "execution_count": 39
        }
      ]
    },
    {
      "metadata": {
        "id": "-xUKXzra2A1u",
        "colab_type": "code",
        "colab": {
          "base_uri": "https://localhost:8080/",
          "height": 224
        },
        "outputId": "2fb6dcff-4157-4290-d1d3-dad508735260"
      },
      "cell_type": "code",
      "source": [
        "my_data = my_data.drop(\"5spend_usd\", axis = 1)\n",
        "my_data.head(5)"
      ],
      "execution_count": 40,
      "outputs": [
        {
          "output_type": "execute_result",
          "data": {
            "text/html": [
              "<div>\n",
              "<style scoped>\n",
              "    .dataframe tbody tr th:only-of-type {\n",
              "        vertical-align: middle;\n",
              "    }\n",
              "\n",
              "    .dataframe tbody tr th {\n",
              "        vertical-align: top;\n",
              "    }\n",
              "\n",
              "    .dataframe thead th {\n",
              "        text-align: right;\n",
              "    }\n",
              "</style>\n",
              "<table border=\"1\" class=\"dataframe\">\n",
              "  <thead>\n",
              "    <tr style=\"text-align: right;\">\n",
              "      <th></th>\n",
              "      <th>country</th>\n",
              "      <th>date</th>\n",
              "      <th>experiment_id</th>\n",
              "      <th>order_id</th>\n",
              "      <th>spend_usd</th>\n",
              "      <th>user_id</th>\n",
              "      <th>vertical</th>\n",
              "    </tr>\n",
              "  </thead>\n",
              "  <tbody>\n",
              "    <tr>\n",
              "      <th>0</th>\n",
              "      <td>JP</td>\n",
              "      <td>20170402</td>\n",
              "      <td>12624548</td>\n",
              "      <td>5813140433216629693</td>\n",
              "      <td>16.138855</td>\n",
              "      <td>5006730028073359543</td>\n",
              "      <td>ANDROID_APPS</td>\n",
              "    </tr>\n",
              "    <tr>\n",
              "      <th>1</th>\n",
              "      <td>US</td>\n",
              "      <td>20170403</td>\n",
              "      <td>12624549</td>\n",
              "      <td>16333056276711034931</td>\n",
              "      <td>9.990000</td>\n",
              "      <td>5938685669571545259</td>\n",
              "      <td>ANDROID_APPS</td>\n",
              "    </tr>\n",
              "    <tr>\n",
              "      <th>2</th>\n",
              "      <td>JP</td>\n",
              "      <td>20170404</td>\n",
              "      <td>12624548</td>\n",
              "      <td>11227119161741298366</td>\n",
              "      <td>19.887087</td>\n",
              "      <td>17623708458399141713</td>\n",
              "      <td>ANDROID_APPS</td>\n",
              "    </tr>\n",
              "    <tr>\n",
              "      <th>3</th>\n",
              "      <td>US</td>\n",
              "      <td>20170403</td>\n",
              "      <td>12624548</td>\n",
              "      <td>11927299833124210932</td>\n",
              "      <td>19.990000</td>\n",
              "      <td>18042812344456618148</td>\n",
              "      <td>ANDROID_APPS</td>\n",
              "    </tr>\n",
              "    <tr>\n",
              "      <th>4</th>\n",
              "      <td>JP</td>\n",
              "      <td>20170403</td>\n",
              "      <td>12624549</td>\n",
              "      <td>11644727017708872749</td>\n",
              "      <td>88.220093</td>\n",
              "      <td>4325104700699531031</td>\n",
              "      <td>ANDROID_APPS</td>\n",
              "    </tr>\n",
              "  </tbody>\n",
              "</table>\n",
              "</div>"
            ],
            "text/plain": [
              "  country      date  experiment_id              order_id  spend_usd  \\\n",
              "0      JP  20170402       12624548   5813140433216629693  16.138855   \n",
              "1      US  20170403       12624549  16333056276711034931   9.990000   \n",
              "2      JP  20170404       12624548  11227119161741298366  19.887087   \n",
              "3      US  20170403       12624548  11927299833124210932  19.990000   \n",
              "4      JP  20170403       12624549  11644727017708872749  88.220093   \n",
              "\n",
              "                user_id      vertical  \n",
              "0   5006730028073359543  ANDROID_APPS  \n",
              "1   5938685669571545259  ANDROID_APPS  \n",
              "2  17623708458399141713  ANDROID_APPS  \n",
              "3  18042812344456618148  ANDROID_APPS  \n",
              "4   4325104700699531031  ANDROID_APPS  "
            ]
          },
          "metadata": {
            "tags": []
          },
          "execution_count": 40
        }
      ]
    },
    {
      "metadata": {
        "id": "VZ4sntxh2zWM",
        "colab_type": "code",
        "colab": {
          "base_uri": "https://localhost:8080/",
          "height": 309
        },
        "outputId": "9bd66795-3314-42d3-fb26-9bb5c48715b0"
      },
      "cell_type": "code",
      "source": [
        "my_data.date = pd.to_datetime(my_data.date, format = '%Y%m%d')\n",
        "my_data.head(5)"
      ],
      "execution_count": 17,
      "outputs": [
        {
          "output_type": "execute_result",
          "data": {
            "text/html": [
              "<div>\n",
              "<style scoped>\n",
              "    .dataframe tbody tr th:only-of-type {\n",
              "        vertical-align: middle;\n",
              "    }\n",
              "\n",
              "    .dataframe tbody tr th {\n",
              "        vertical-align: top;\n",
              "    }\n",
              "\n",
              "    .dataframe thead th {\n",
              "        text-align: right;\n",
              "    }\n",
              "</style>\n",
              "<table border=\"1\" class=\"dataframe\">\n",
              "  <thead>\n",
              "    <tr style=\"text-align: right;\">\n",
              "      <th></th>\n",
              "      <th>country</th>\n",
              "      <th>date</th>\n",
              "      <th>experiment_id</th>\n",
              "      <th>order_id</th>\n",
              "      <th>spend_usd</th>\n",
              "      <th>user_id</th>\n",
              "      <th>vertical</th>\n",
              "    </tr>\n",
              "  </thead>\n",
              "  <tbody>\n",
              "    <tr>\n",
              "      <th>0</th>\n",
              "      <td>JP</td>\n",
              "      <td>2017-04-02</td>\n",
              "      <td>12624548</td>\n",
              "      <td>5813140433216629693</td>\n",
              "      <td>16.138855</td>\n",
              "      <td>5006730028073359543</td>\n",
              "      <td>ANDROID_APPS</td>\n",
              "    </tr>\n",
              "    <tr>\n",
              "      <th>1</th>\n",
              "      <td>US</td>\n",
              "      <td>2017-04-03</td>\n",
              "      <td>12624549</td>\n",
              "      <td>16333056276711034931</td>\n",
              "      <td>9.990000</td>\n",
              "      <td>5938685669571545259</td>\n",
              "      <td>ANDROID_APPS</td>\n",
              "    </tr>\n",
              "    <tr>\n",
              "      <th>2</th>\n",
              "      <td>JP</td>\n",
              "      <td>2017-04-04</td>\n",
              "      <td>12624548</td>\n",
              "      <td>11227119161741298366</td>\n",
              "      <td>19.887087</td>\n",
              "      <td>17623708458399141713</td>\n",
              "      <td>ANDROID_APPS</td>\n",
              "    </tr>\n",
              "    <tr>\n",
              "      <th>3</th>\n",
              "      <td>US</td>\n",
              "      <td>2017-04-03</td>\n",
              "      <td>12624548</td>\n",
              "      <td>11927299833124210932</td>\n",
              "      <td>19.990000</td>\n",
              "      <td>18042812344456618148</td>\n",
              "      <td>ANDROID_APPS</td>\n",
              "    </tr>\n",
              "    <tr>\n",
              "      <th>4</th>\n",
              "      <td>JP</td>\n",
              "      <td>2017-04-03</td>\n",
              "      <td>12624549</td>\n",
              "      <td>11644727017708872749</td>\n",
              "      <td>88.220093</td>\n",
              "      <td>4325104700699531031</td>\n",
              "      <td>ANDROID_APPS</td>\n",
              "    </tr>\n",
              "  </tbody>\n",
              "</table>\n",
              "</div>"
            ],
            "text/plain": [
              "  country       date  experiment_id              order_id  spend_usd  \\\n",
              "0      JP 2017-04-02       12624548   5813140433216629693  16.138855   \n",
              "1      US 2017-04-03       12624549  16333056276711034931   9.990000   \n",
              "2      JP 2017-04-04       12624548  11227119161741298366  19.887087   \n",
              "3      US 2017-04-03       12624548  11927299833124210932  19.990000   \n",
              "4      JP 2017-04-03       12624549  11644727017708872749  88.220093   \n",
              "\n",
              "                user_id      vertical  \n",
              "0   5006730028073359543  ANDROID_APPS  \n",
              "1   5938685669571545259  ANDROID_APPS  \n",
              "2  17623708458399141713  ANDROID_APPS  \n",
              "3  18042812344456618148  ANDROID_APPS  \n",
              "4   4325104700699531031  ANDROID_APPS  "
            ]
          },
          "metadata": {
            "tags": []
          },
          "execution_count": 17
        }
      ]
    },
    {
      "metadata": {
        "id": "7LRdp5xw5DUV",
        "colab_type": "code",
        "colab": {
          "base_uri": "https://localhost:8080/",
          "height": 235
        },
        "outputId": "d5d10347-f385-4db6-89fe-a5d766ba53f5"
      },
      "cell_type": "code",
      "source": [
        "result = my_data.groupby([\"country\"])[[\"spend_usd\"]].sum()\n",
        "result.head(5)"
      ],
      "execution_count": 46,
      "outputs": [
        {
          "output_type": "execute_result",
          "data": {
            "text/html": [
              "<div>\n",
              "<style scoped>\n",
              "    .dataframe tbody tr th:only-of-type {\n",
              "        vertical-align: middle;\n",
              "    }\n",
              "\n",
              "    .dataframe tbody tr th {\n",
              "        vertical-align: top;\n",
              "    }\n",
              "\n",
              "    .dataframe thead th {\n",
              "        text-align: right;\n",
              "    }\n",
              "</style>\n",
              "<table border=\"1\" class=\"dataframe\">\n",
              "  <thead>\n",
              "    <tr style=\"text-align: right;\">\n",
              "      <th></th>\n",
              "      <th>spend_usd</th>\n",
              "    </tr>\n",
              "    <tr>\n",
              "      <th>country</th>\n",
              "      <th></th>\n",
              "    </tr>\n",
              "  </thead>\n",
              "  <tbody>\n",
              "    <tr>\n",
              "      <th>AE</th>\n",
              "      <td>14.963641</td>\n",
              "    </tr>\n",
              "    <tr>\n",
              "      <th>AR</th>\n",
              "      <td>16.180000</td>\n",
              "    </tr>\n",
              "    <tr>\n",
              "      <th>AT</th>\n",
              "      <td>3759.115467</td>\n",
              "    </tr>\n",
              "    <tr>\n",
              "      <th>AU</th>\n",
              "      <td>15877.633679</td>\n",
              "    </tr>\n",
              "    <tr>\n",
              "      <th>BE</th>\n",
              "      <td>2789.523098</td>\n",
              "    </tr>\n",
              "  </tbody>\n",
              "</table>\n",
              "</div>"
            ],
            "text/plain": [
              "            spend_usd\n",
              "country              \n",
              "AE          14.963641\n",
              "AR          16.180000\n",
              "AT        3759.115467\n",
              "AU       15877.633679\n",
              "BE        2789.523098"
            ]
          },
          "metadata": {
            "tags": []
          },
          "execution_count": 46
        }
      ]
    },
    {
      "metadata": {
        "id": "-LC4YwIk_Ufi",
        "colab_type": "code",
        "colab": {
          "base_uri": "https://localhost:8080/",
          "height": 309
        },
        "outputId": "5da19e35-c7e9-47c3-f24c-54c5436dc9f5"
      },
      "cell_type": "code",
      "source": [
        "my_data = my_data.sort_values([\"country\",\"date\"], ascending = [True, True])\n",
        "my_data.head(5)"
      ],
      "execution_count": 48,
      "outputs": [
        {
          "output_type": "execute_result",
          "data": {
            "text/html": [
              "<div>\n",
              "<style scoped>\n",
              "    .dataframe tbody tr th:only-of-type {\n",
              "        vertical-align: middle;\n",
              "    }\n",
              "\n",
              "    .dataframe tbody tr th {\n",
              "        vertical-align: top;\n",
              "    }\n",
              "\n",
              "    .dataframe thead th {\n",
              "        text-align: right;\n",
              "    }\n",
              "</style>\n",
              "<table border=\"1\" class=\"dataframe\">\n",
              "  <thead>\n",
              "    <tr style=\"text-align: right;\">\n",
              "      <th></th>\n",
              "      <th>country</th>\n",
              "      <th>date</th>\n",
              "      <th>experiment_id</th>\n",
              "      <th>order_id</th>\n",
              "      <th>spend_usd</th>\n",
              "      <th>user_id</th>\n",
              "      <th>vertical</th>\n",
              "    </tr>\n",
              "  </thead>\n",
              "  <tbody>\n",
              "    <tr>\n",
              "      <th>15381</th>\n",
              "      <td>AE</td>\n",
              "      <td>2017-04-03</td>\n",
              "      <td>12624548</td>\n",
              "      <td>8078410735682954089</td>\n",
              "      <td>1.984784</td>\n",
              "      <td>15342218896746506117</td>\n",
              "      <td>ANDROID_APPS</td>\n",
              "    </tr>\n",
              "    <tr>\n",
              "      <th>22250</th>\n",
              "      <td>AE</td>\n",
              "      <td>2017-04-04</td>\n",
              "      <td>12624549</td>\n",
              "      <td>6754390085836948239</td>\n",
              "      <td>0.977429</td>\n",
              "      <td>11276568206142884528</td>\n",
              "      <td>ANDROID_APPS</td>\n",
              "    </tr>\n",
              "    <tr>\n",
              "      <th>19088</th>\n",
              "      <td>AE</td>\n",
              "      <td>2017-04-05</td>\n",
              "      <td>12624549</td>\n",
              "      <td>13528583286475944786</td>\n",
              "      <td>10.071074</td>\n",
              "      <td>10187980296635197684</td>\n",
              "      <td>ANDROID_APPS</td>\n",
              "    </tr>\n",
              "    <tr>\n",
              "      <th>38119</th>\n",
              "      <td>AE</td>\n",
              "      <td>2017-04-05</td>\n",
              "      <td>12624548</td>\n",
              "      <td>18081415353723908788</td>\n",
              "      <td>0.952926</td>\n",
              "      <td>921275339006250633</td>\n",
              "      <td>ANDROID_APPS</td>\n",
              "    </tr>\n",
              "    <tr>\n",
              "      <th>22092</th>\n",
              "      <td>AE</td>\n",
              "      <td>2017-04-07</td>\n",
              "      <td>12624549</td>\n",
              "      <td>18156435304744752611</td>\n",
              "      <td>0.977428</td>\n",
              "      <td>5956003464692123193</td>\n",
              "      <td>ANDROID_APPS</td>\n",
              "    </tr>\n",
              "  </tbody>\n",
              "</table>\n",
              "</div>"
            ],
            "text/plain": [
              "      country       date  experiment_id              order_id  spend_usd  \\\n",
              "15381      AE 2017-04-03       12624548   8078410735682954089   1.984784   \n",
              "22250      AE 2017-04-04       12624549   6754390085836948239   0.977429   \n",
              "19088      AE 2017-04-05       12624549  13528583286475944786  10.071074   \n",
              "38119      AE 2017-04-05       12624548  18081415353723908788   0.952926   \n",
              "22092      AE 2017-04-07       12624549  18156435304744752611   0.977428   \n",
              "\n",
              "                    user_id      vertical  \n",
              "15381  15342218896746506117  ANDROID_APPS  \n",
              "22250  11276568206142884528  ANDROID_APPS  \n",
              "19088  10187980296635197684  ANDROID_APPS  \n",
              "38119    921275339006250633  ANDROID_APPS  \n",
              "22092   5956003464692123193  ANDROID_APPS  "
            ]
          },
          "metadata": {
            "tags": []
          },
          "execution_count": 48
        }
      ]
    },
    {
      "metadata": {
        "id": "Z5P4gYHUDmSF",
        "colab_type": "code",
        "colab": {
          "base_uri": "https://localhost:8080/",
          "height": 224
        },
        "outputId": "b5374041-18ab-4f79-c465-c85c3ec9a912"
      },
      "cell_type": "code",
      "source": [
        "my_data.head(5)"
      ],
      "execution_count": 22,
      "outputs": [
        {
          "output_type": "execute_result",
          "data": {
            "text/html": [
              "<div>\n",
              "<style scoped>\n",
              "    .dataframe tbody tr th:only-of-type {\n",
              "        vertical-align: middle;\n",
              "    }\n",
              "\n",
              "    .dataframe tbody tr th {\n",
              "        vertical-align: top;\n",
              "    }\n",
              "\n",
              "    .dataframe thead th {\n",
              "        text-align: right;\n",
              "    }\n",
              "</style>\n",
              "<table border=\"1\" class=\"dataframe\">\n",
              "  <thead>\n",
              "    <tr style=\"text-align: right;\">\n",
              "      <th></th>\n",
              "      <th>country</th>\n",
              "      <th>date</th>\n",
              "      <th>experiment_id</th>\n",
              "      <th>order_id</th>\n",
              "      <th>spend_usd</th>\n",
              "      <th>user_id</th>\n",
              "      <th>vertical</th>\n",
              "    </tr>\n",
              "  </thead>\n",
              "  <tbody>\n",
              "    <tr>\n",
              "      <th>0</th>\n",
              "      <td>JP</td>\n",
              "      <td>20170402</td>\n",
              "      <td>12624548</td>\n",
              "      <td>5813140433216629693</td>\n",
              "      <td>16.138855</td>\n",
              "      <td>5006730028073359543</td>\n",
              "      <td>ANDROID_APPS</td>\n",
              "    </tr>\n",
              "    <tr>\n",
              "      <th>1</th>\n",
              "      <td>US</td>\n",
              "      <td>20170403</td>\n",
              "      <td>12624549</td>\n",
              "      <td>16333056276711034931</td>\n",
              "      <td>9.990000</td>\n",
              "      <td>5938685669571545259</td>\n",
              "      <td>ANDROID_APPS</td>\n",
              "    </tr>\n",
              "    <tr>\n",
              "      <th>2</th>\n",
              "      <td>JP</td>\n",
              "      <td>20170404</td>\n",
              "      <td>12624548</td>\n",
              "      <td>11227119161741298366</td>\n",
              "      <td>19.887087</td>\n",
              "      <td>17623708458399141713</td>\n",
              "      <td>ANDROID_APPS</td>\n",
              "    </tr>\n",
              "    <tr>\n",
              "      <th>3</th>\n",
              "      <td>US</td>\n",
              "      <td>20170403</td>\n",
              "      <td>12624548</td>\n",
              "      <td>11927299833124210932</td>\n",
              "      <td>19.990000</td>\n",
              "      <td>18042812344456618148</td>\n",
              "      <td>ANDROID_APPS</td>\n",
              "    </tr>\n",
              "    <tr>\n",
              "      <th>4</th>\n",
              "      <td>JP</td>\n",
              "      <td>20170403</td>\n",
              "      <td>12624549</td>\n",
              "      <td>11644727017708872749</td>\n",
              "      <td>88.220093</td>\n",
              "      <td>4325104700699531031</td>\n",
              "      <td>ANDROID_APPS</td>\n",
              "    </tr>\n",
              "  </tbody>\n",
              "</table>\n",
              "</div>"
            ],
            "text/plain": [
              "  country      date  experiment_id              order_id  spend_usd  \\\n",
              "0      JP  20170402       12624548   5813140433216629693  16.138855   \n",
              "1      US  20170403       12624549  16333056276711034931   9.990000   \n",
              "2      JP  20170404       12624548  11227119161741298366  19.887087   \n",
              "3      US  20170403       12624548  11927299833124210932  19.990000   \n",
              "4      JP  20170403       12624549  11644727017708872749  88.220093   \n",
              "\n",
              "                user_id      vertical  \n",
              "0   5006730028073359543  ANDROID_APPS  \n",
              "1   5938685669571545259  ANDROID_APPS  \n",
              "2  17623708458399141713  ANDROID_APPS  \n",
              "3  18042812344456618148  ANDROID_APPS  \n",
              "4   4325104700699531031  ANDROID_APPS  "
            ]
          },
          "metadata": {
            "tags": []
          },
          "execution_count": 22
        }
      ]
    },
    {
      "metadata": {
        "id": "TB_VPh-ju4Zc",
        "colab_type": "code",
        "colab": {
          "base_uri": "https://localhost:8080/",
          "height": 204
        },
        "outputId": "08fb9ad0-656b-4901-ba3b-09ff9ee291e8"
      },
      "cell_type": "code",
      "source": [
        "my_data[['country','date']][my_data.country == 'US'].head(5)"
      ],
      "execution_count": 23,
      "outputs": [
        {
          "output_type": "execute_result",
          "data": {
            "text/html": [
              "<div>\n",
              "<style scoped>\n",
              "    .dataframe tbody tr th:only-of-type {\n",
              "        vertical-align: middle;\n",
              "    }\n",
              "\n",
              "    .dataframe tbody tr th {\n",
              "        vertical-align: top;\n",
              "    }\n",
              "\n",
              "    .dataframe thead th {\n",
              "        text-align: right;\n",
              "    }\n",
              "</style>\n",
              "<table border=\"1\" class=\"dataframe\">\n",
              "  <thead>\n",
              "    <tr style=\"text-align: right;\">\n",
              "      <th></th>\n",
              "      <th>country</th>\n",
              "      <th>date</th>\n",
              "    </tr>\n",
              "  </thead>\n",
              "  <tbody>\n",
              "    <tr>\n",
              "      <th>1</th>\n",
              "      <td>US</td>\n",
              "      <td>20170403</td>\n",
              "    </tr>\n",
              "    <tr>\n",
              "      <th>3</th>\n",
              "      <td>US</td>\n",
              "      <td>20170403</td>\n",
              "    </tr>\n",
              "    <tr>\n",
              "      <th>6</th>\n",
              "      <td>US</td>\n",
              "      <td>20170406</td>\n",
              "    </tr>\n",
              "    <tr>\n",
              "      <th>7</th>\n",
              "      <td>US</td>\n",
              "      <td>20170402</td>\n",
              "    </tr>\n",
              "    <tr>\n",
              "      <th>8</th>\n",
              "      <td>US</td>\n",
              "      <td>20170405</td>\n",
              "    </tr>\n",
              "  </tbody>\n",
              "</table>\n",
              "</div>"
            ],
            "text/plain": [
              "  country      date\n",
              "1      US  20170403\n",
              "3      US  20170403\n",
              "6      US  20170406\n",
              "7      US  20170402\n",
              "8      US  20170405"
            ]
          },
          "metadata": {
            "tags": []
          },
          "execution_count": 23
        }
      ]
    },
    {
      "metadata": {
        "id": "JTBBQZMHvGlc",
        "colab_type": "code",
        "colab": {}
      },
      "cell_type": "code",
      "source": [
        "specialdate = pd.DataFrame(\n",
        "{\"d1\":[20191102, 20101221, 19901119], \"d2\":[19880901, 19970803, 20221031]}, index = [1,2,3])"
      ],
      "execution_count": 0,
      "outputs": []
    },
    {
      "metadata": {
        "id": "VnUMMyH4uwDR",
        "colab_type": "text"
      },
      "cell_type": "markdown",
      "source": [
        ""
      ]
    },
    {
      "metadata": {
        "id": "PNBrPIHmvZU9",
        "colab_type": "code",
        "colab": {
          "base_uri": "https://localhost:8080/",
          "height": 142
        },
        "outputId": "7aac0e13-e6a6-4dde-bc5d-4d4020c7aafc"
      },
      "cell_type": "code",
      "source": [
        "specialdate"
      ],
      "execution_count": 53,
      "outputs": [
        {
          "output_type": "execute_result",
          "data": {
            "text/html": [
              "<div>\n",
              "<style scoped>\n",
              "    .dataframe tbody tr th:only-of-type {\n",
              "        vertical-align: middle;\n",
              "    }\n",
              "\n",
              "    .dataframe tbody tr th {\n",
              "        vertical-align: top;\n",
              "    }\n",
              "\n",
              "    .dataframe thead th {\n",
              "        text-align: right;\n",
              "    }\n",
              "</style>\n",
              "<table border=\"1\" class=\"dataframe\">\n",
              "  <thead>\n",
              "    <tr style=\"text-align: right;\">\n",
              "      <th></th>\n",
              "      <th>d1</th>\n",
              "      <th>d2</th>\n",
              "    </tr>\n",
              "  </thead>\n",
              "  <tbody>\n",
              "    <tr>\n",
              "      <th>1</th>\n",
              "      <td>20191102</td>\n",
              "      <td>19880901</td>\n",
              "    </tr>\n",
              "    <tr>\n",
              "      <th>2</th>\n",
              "      <td>20101221</td>\n",
              "      <td>19970803</td>\n",
              "    </tr>\n",
              "    <tr>\n",
              "      <th>3</th>\n",
              "      <td>19901119</td>\n",
              "      <td>20221031</td>\n",
              "    </tr>\n",
              "  </tbody>\n",
              "</table>\n",
              "</div>"
            ],
            "text/plain": [
              "         d1        d2\n",
              "1  20191102  19880901\n",
              "2  20101221  19970803\n",
              "3  19901119  20221031"
            ]
          },
          "metadata": {
            "tags": []
          },
          "execution_count": 53
        }
      ]
    },
    {
      "metadata": {
        "id": "S33X0SDltmZF",
        "colab_type": "code",
        "colab": {}
      },
      "cell_type": "code",
      "source": [
        "specialdate.d1 = pd.to_datetime(specialdate.d1, format = '%Y%m%d')"
      ],
      "execution_count": 0,
      "outputs": []
    },
    {
      "metadata": {
        "id": "ZXi5STF2DiBC",
        "colab_type": "code",
        "colab": {
          "base_uri": "https://localhost:8080/",
          "height": 142
        },
        "outputId": "a763922f-780c-4be9-80dc-e3c42bb9f2cc"
      },
      "cell_type": "code",
      "source": [
        "specialdate"
      ],
      "execution_count": 55,
      "outputs": [
        {
          "output_type": "execute_result",
          "data": {
            "text/html": [
              "<div>\n",
              "<style scoped>\n",
              "    .dataframe tbody tr th:only-of-type {\n",
              "        vertical-align: middle;\n",
              "    }\n",
              "\n",
              "    .dataframe tbody tr th {\n",
              "        vertical-align: top;\n",
              "    }\n",
              "\n",
              "    .dataframe thead th {\n",
              "        text-align: right;\n",
              "    }\n",
              "</style>\n",
              "<table border=\"1\" class=\"dataframe\">\n",
              "  <thead>\n",
              "    <tr style=\"text-align: right;\">\n",
              "      <th></th>\n",
              "      <th>d1</th>\n",
              "      <th>d2</th>\n",
              "    </tr>\n",
              "  </thead>\n",
              "  <tbody>\n",
              "    <tr>\n",
              "      <th>1</th>\n",
              "      <td>2019-11-02</td>\n",
              "      <td>19880901</td>\n",
              "    </tr>\n",
              "    <tr>\n",
              "      <th>2</th>\n",
              "      <td>2010-12-21</td>\n",
              "      <td>19970803</td>\n",
              "    </tr>\n",
              "    <tr>\n",
              "      <th>3</th>\n",
              "      <td>1990-11-19</td>\n",
              "      <td>20221031</td>\n",
              "    </tr>\n",
              "  </tbody>\n",
              "</table>\n",
              "</div>"
            ],
            "text/plain": [
              "          d1        d2\n",
              "1 2019-11-02  19880901\n",
              "2 2010-12-21  19970803\n",
              "3 1990-11-19  20221031"
            ]
          },
          "metadata": {
            "tags": []
          },
          "execution_count": 55
        }
      ]
    },
    {
      "metadata": {
        "id": "c8iJ6KLg60yL",
        "colab_type": "code",
        "colab": {
          "base_uri": "https://localhost:8080/",
          "height": 224
        },
        "outputId": "dc6fea51-9d24-4b01-c727-f1f8fd98611b"
      },
      "cell_type": "code",
      "source": [
        "my_data.head(5)"
      ],
      "execution_count": 56,
      "outputs": [
        {
          "output_type": "execute_result",
          "data": {
            "text/html": [
              "<div>\n",
              "<style scoped>\n",
              "    .dataframe tbody tr th:only-of-type {\n",
              "        vertical-align: middle;\n",
              "    }\n",
              "\n",
              "    .dataframe tbody tr th {\n",
              "        vertical-align: top;\n",
              "    }\n",
              "\n",
              "    .dataframe thead th {\n",
              "        text-align: right;\n",
              "    }\n",
              "</style>\n",
              "<table border=\"1\" class=\"dataframe\">\n",
              "  <thead>\n",
              "    <tr style=\"text-align: right;\">\n",
              "      <th></th>\n",
              "      <th>country</th>\n",
              "      <th>date</th>\n",
              "      <th>experiment_id</th>\n",
              "      <th>order_id</th>\n",
              "      <th>spend_usd</th>\n",
              "      <th>user_id</th>\n",
              "      <th>vertical</th>\n",
              "    </tr>\n",
              "  </thead>\n",
              "  <tbody>\n",
              "    <tr>\n",
              "      <th>0</th>\n",
              "      <td>JP</td>\n",
              "      <td>20170402</td>\n",
              "      <td>12624548</td>\n",
              "      <td>5813140433216629693</td>\n",
              "      <td>16.138855</td>\n",
              "      <td>5006730028073359543</td>\n",
              "      <td>ANDROID_APPS</td>\n",
              "    </tr>\n",
              "    <tr>\n",
              "      <th>1</th>\n",
              "      <td>US</td>\n",
              "      <td>20170403</td>\n",
              "      <td>12624549</td>\n",
              "      <td>16333056276711034931</td>\n",
              "      <td>9.990000</td>\n",
              "      <td>5938685669571545259</td>\n",
              "      <td>ANDROID_APPS</td>\n",
              "    </tr>\n",
              "    <tr>\n",
              "      <th>2</th>\n",
              "      <td>JP</td>\n",
              "      <td>20170404</td>\n",
              "      <td>12624548</td>\n",
              "      <td>11227119161741298366</td>\n",
              "      <td>19.887087</td>\n",
              "      <td>17623708458399141713</td>\n",
              "      <td>ANDROID_APPS</td>\n",
              "    </tr>\n",
              "    <tr>\n",
              "      <th>3</th>\n",
              "      <td>US</td>\n",
              "      <td>20170403</td>\n",
              "      <td>12624548</td>\n",
              "      <td>11927299833124210932</td>\n",
              "      <td>19.990000</td>\n",
              "      <td>18042812344456618148</td>\n",
              "      <td>ANDROID_APPS</td>\n",
              "    </tr>\n",
              "    <tr>\n",
              "      <th>4</th>\n",
              "      <td>JP</td>\n",
              "      <td>20170403</td>\n",
              "      <td>12624549</td>\n",
              "      <td>11644727017708872749</td>\n",
              "      <td>88.220093</td>\n",
              "      <td>4325104700699531031</td>\n",
              "      <td>ANDROID_APPS</td>\n",
              "    </tr>\n",
              "  </tbody>\n",
              "</table>\n",
              "</div>"
            ],
            "text/plain": [
              "  country      date  experiment_id              order_id  spend_usd  \\\n",
              "0      JP  20170402       12624548   5813140433216629693  16.138855   \n",
              "1      US  20170403       12624549  16333056276711034931   9.990000   \n",
              "2      JP  20170404       12624548  11227119161741298366  19.887087   \n",
              "3      US  20170403       12624548  11927299833124210932  19.990000   \n",
              "4      JP  20170403       12624549  11644727017708872749  88.220093   \n",
              "\n",
              "                user_id      vertical  \n",
              "0   5006730028073359543  ANDROID_APPS  \n",
              "1   5938685669571545259  ANDROID_APPS  \n",
              "2  17623708458399141713  ANDROID_APPS  \n",
              "3  18042812344456618148  ANDROID_APPS  \n",
              "4   4325104700699531031  ANDROID_APPS  "
            ]
          },
          "metadata": {
            "tags": []
          },
          "execution_count": 56
        }
      ]
    },
    {
      "metadata": {
        "id": "ArS9S0uBHJtY",
        "colab_type": "code",
        "colab": {
          "base_uri": "https://localhost:8080/",
          "height": 224
        },
        "outputId": "e2a6d3ae-6c2d-4df1-acaf-36e97b369724"
      },
      "cell_type": "code",
      "source": [
        "my_data = my_data.sort_values(['country', 'date'], ascending = [True, True]).reset_index()\n",
        "my_data.head(5)"
      ],
      "execution_count": 58,
      "outputs": [
        {
          "output_type": "execute_result",
          "data": {
            "text/html": [
              "<div>\n",
              "<style scoped>\n",
              "    .dataframe tbody tr th:only-of-type {\n",
              "        vertical-align: middle;\n",
              "    }\n",
              "\n",
              "    .dataframe tbody tr th {\n",
              "        vertical-align: top;\n",
              "    }\n",
              "\n",
              "    .dataframe thead th {\n",
              "        text-align: right;\n",
              "    }\n",
              "</style>\n",
              "<table border=\"1\" class=\"dataframe\">\n",
              "  <thead>\n",
              "    <tr style=\"text-align: right;\">\n",
              "      <th></th>\n",
              "      <th>index</th>\n",
              "      <th>country</th>\n",
              "      <th>date</th>\n",
              "      <th>experiment_id</th>\n",
              "      <th>order_id</th>\n",
              "      <th>spend_usd</th>\n",
              "      <th>user_id</th>\n",
              "      <th>vertical</th>\n",
              "    </tr>\n",
              "  </thead>\n",
              "  <tbody>\n",
              "    <tr>\n",
              "      <th>0</th>\n",
              "      <td>15381</td>\n",
              "      <td>AE</td>\n",
              "      <td>20170403</td>\n",
              "      <td>12624548</td>\n",
              "      <td>8078410735682954089</td>\n",
              "      <td>1.984784</td>\n",
              "      <td>15342218896746506117</td>\n",
              "      <td>ANDROID_APPS</td>\n",
              "    </tr>\n",
              "    <tr>\n",
              "      <th>1</th>\n",
              "      <td>22250</td>\n",
              "      <td>AE</td>\n",
              "      <td>20170404</td>\n",
              "      <td>12624549</td>\n",
              "      <td>6754390085836948239</td>\n",
              "      <td>0.977429</td>\n",
              "      <td>11276568206142884528</td>\n",
              "      <td>ANDROID_APPS</td>\n",
              "    </tr>\n",
              "    <tr>\n",
              "      <th>2</th>\n",
              "      <td>19088</td>\n",
              "      <td>AE</td>\n",
              "      <td>20170405</td>\n",
              "      <td>12624549</td>\n",
              "      <td>13528583286475944786</td>\n",
              "      <td>10.071074</td>\n",
              "      <td>10187980296635197684</td>\n",
              "      <td>ANDROID_APPS</td>\n",
              "    </tr>\n",
              "    <tr>\n",
              "      <th>3</th>\n",
              "      <td>38119</td>\n",
              "      <td>AE</td>\n",
              "      <td>20170405</td>\n",
              "      <td>12624548</td>\n",
              "      <td>18081415353723908788</td>\n",
              "      <td>0.952926</td>\n",
              "      <td>921275339006250633</td>\n",
              "      <td>ANDROID_APPS</td>\n",
              "    </tr>\n",
              "    <tr>\n",
              "      <th>4</th>\n",
              "      <td>22092</td>\n",
              "      <td>AE</td>\n",
              "      <td>20170407</td>\n",
              "      <td>12624549</td>\n",
              "      <td>18156435304744752611</td>\n",
              "      <td>0.977428</td>\n",
              "      <td>5956003464692123193</td>\n",
              "      <td>ANDROID_APPS</td>\n",
              "    </tr>\n",
              "  </tbody>\n",
              "</table>\n",
              "</div>"
            ],
            "text/plain": [
              "   index country      date  experiment_id              order_id  spend_usd  \\\n",
              "0  15381      AE  20170403       12624548   8078410735682954089   1.984784   \n",
              "1  22250      AE  20170404       12624549   6754390085836948239   0.977429   \n",
              "2  19088      AE  20170405       12624549  13528583286475944786  10.071074   \n",
              "3  38119      AE  20170405       12624548  18081415353723908788   0.952926   \n",
              "4  22092      AE  20170407       12624549  18156435304744752611   0.977428   \n",
              "\n",
              "                user_id      vertical  \n",
              "0  15342218896746506117  ANDROID_APPS  \n",
              "1  11276568206142884528  ANDROID_APPS  \n",
              "2  10187980296635197684  ANDROID_APPS  \n",
              "3    921275339006250633  ANDROID_APPS  \n",
              "4   5956003464692123193  ANDROID_APPS  "
            ]
          },
          "metadata": {
            "tags": []
          },
          "execution_count": 58
        }
      ]
    },
    {
      "metadata": {
        "id": "AExAvchwHhNW",
        "colab_type": "code",
        "colab": {}
      },
      "cell_type": "code",
      "source": [
        "import matplotlib.pyplot as plt"
      ],
      "execution_count": 0,
      "outputs": []
    },
    {
      "metadata": {
        "id": "5KfZ1V4FHZfb",
        "colab_type": "code",
        "colab": {}
      },
      "cell_type": "code",
      "source": [
        "x = np.array([1,2,3,4,5])\n",
        "y = np.array([1,2,3,4,5])"
      ],
      "execution_count": 0,
      "outputs": []
    },
    {
      "metadata": {
        "id": "zI5d-KfS456j",
        "colab_type": "code",
        "colab": {
          "base_uri": "https://localhost:8080/",
          "height": 364
        },
        "outputId": "d3d7d796-e62e-4335-e788-2e471d067d5b"
      },
      "cell_type": "code",
      "source": [
        "fig, ax = plt.subplots()\n",
        "ax.plot(x,y)\n",
        "# ax.scatter(x, y)表示散点图"
      ],
      "execution_count": 7,
      "outputs": [
        {
          "output_type": "execute_result",
          "data": {
            "text/plain": [
              "[<matplotlib.lines.Line2D at 0x7fbda1ff6890>]"
            ]
          },
          "metadata": {
            "tags": []
          },
          "execution_count": 7
        },
        {
          "output_type": "display_data",
          "data": {
            "image/png": "[encoded data removed]",
            "text/plain": [
              "<matplotlib.figure.Figure at 0x7fbda1ff68d0>"
            ]
          },
          "metadata": {
            "tags": []
          }
        }
      ]
    },
    {
      "metadata": {
        "id": "vwQtg-_DWQe5",
        "colab_type": "code",
        "colab": {
          "base_uri": "https://localhost:8080/",
          "height": 364
        },
        "outputId": "b6d2efa3-c21e-47bf-e173-b7d892257155"
      },
      "cell_type": "code",
      "source": [
        "fig, axes = plt.subplots(nrows=2, ncols=2)\n",
        "axes[0,0].scatter(x,y)\n",
        "axes[0,1].plot(x,-y)\n",
        "axes[1,0].scatter(-x,-y)\n",
        "axes[1,1].plot(-x,y)"
      ],
      "execution_count": 8,
      "outputs": [
        {
          "output_type": "execute_result",
          "data": {
            "text/plain": [
              "[<matplotlib.lines.Line2D at 0x7fbd9fd7e1d0>]"
            ]
          },
          "metadata": {
            "tags": []
          },
          "execution_count": 8
        },
        {
          "output_type": "display_data",
          "data": {
            "image/png": "[encoded data removed]",
            "text/plain": [
              "<matplotlib.figure.Figure at 0x7fbd9fe96610>"
            ]
          },
          "metadata": {
            "tags": []
          }
        }
      ]
    },
    {
      "metadata": {
        "id": "nZe3ogbeXYFV",
        "colab_type": "code",
        "colab": {}
      },
      "cell_type": "code",
      "source": [
        "my_series_us = my_data[\"spend_usd\"][(my_data.spend_usd < 20)&(my_data.country == \"US\")]\n",
        "my_series_jp = my_data[\"spend_usd\"][(my_data.spend_usd < 20)&(my_data.country == \"JP\")]"
      ],
      "execution_count": 0,
      "outputs": []
    },
    {
      "metadata": {
        "id": "gAWTyqQ2Yl05",
        "colab_type": "code",
        "colab": {
          "base_uri": "https://localhost:8080/",
          "height": 376
        },
        "outputId": "f8b210f9-6dd8-4194-f2af-aa0b0c0adf92"
      },
      "cell_type": "code",
      "source": [
        "\t#5. 比如：\n",
        "\t#创造两个series，分别是my_data中spend_usd那一列中小于20，且国籍分别为US和JP的两组数据：\n",
        "\t#my_series_us = my_data[\"spend_usd\"][(my_data.spend_usd < 20)&(my_data.country == \"US\")]\n",
        "\t#my_series_jp = my_data[\"spend_usd\"][(my_data.spend_usd < 20)&(my_data.country == \"JP\")]\n",
        "\t#然后给这两组数据画直方图：\n",
        "\t#fig, ax = plt.subplots(ncols=2, sharex=True, sharey=True)      意思是横着画两个图，share共同的XY坐标\n",
        "\t#ax[0].hist(my_series_jp, bins=20)       意思是画直方图，刻度单位是总共的20/20\n",
        "\t#ax[1].hist(my_series_us, bins=20)\n",
        "\t#这个图是自动统计成花了20元以下的order里，各种水平的花费有多少人\n",
        "\t\n",
        "\t#还可以继续做美化：加标题，加横纵坐标名：\n",
        "\t#ax[0].set_title(\"JP\")\n",
        "\t#ax[1].set_title(\"US\")\n",
        "\t\n",
        "\t#ax[0].set_ylabel(\"Order count\")\n",
        "\t#ax[0].set_xlabel(\"Spend\")\n",
        "\t#ax[1].set_xlabel(\"Spend\")\n",
        "\t\n",
        "#以上是画的两个数据的两个图\n",
        "\n",
        "fig, ax = plt.subplots(ncols=2, sharex=True, sharey=True)\n",
        "ax[0].hist(my_series_jp, bins=20)\n",
        "ax[1].hist(my_series_us, bins=20)\n",
        "\n",
        "ax[0].set_title(\"JP\")\n",
        "ax[1].set_title(\"US\")\n",
        "ax[0].set_ylabel(\"Order count\")\n",
        "ax[0].set_xlabel(\"Spend\")\n",
        "ax[1].set_xlabel(\"Spend\");\n",
        "\n",
        "# 如果要改变X轴的值的范围，在ax[0].hist()里加上一个arguement在括号里 range=[6.5, 12.5]\n"
      ],
      "execution_count": 46,
      "outputs": [
        {
          "output_type": "display_data",
          "data": {
            "image/png": "[encoded data removed]",
            "text/plain": [
              "<matplotlib.figure.Figure at 0x7fbd9f309a50>"
            ]
          },
          "metadata": {
            "tags": []
          }
        }
      ]
    },
    {
      "metadata": {
        "id": "zLTNneqcHHmK",
        "colab_type": "code",
        "colab": {
          "base_uri": "https://localhost:8080/",
          "height": 704
        },
        "outputId": "548cf838-9a5b-477a-c8f4-a4ebab3841f6"
      },
      "cell_type": "code",
      "source": [
        "# \t6. 将两组数据画在同一幅图上：\n",
        "fig, ax = plt.subplots()\n",
        "ax.hist(my_series_jp, bins=50, color='blue', alpha=0.5)      \n",
        "#alpha是用来表示透明度的，免得遮盖\n",
        "\n",
        "ax.hist(my_series_us, bins=50, color='red', alpha=0.5)       \n",
        "#bins 表示单位是总刻度 20/50\n"
      ],
      "execution_count": 41,
      "outputs": [
        {
          "output_type": "execute_result",
          "data": {
            "text/plain": [
              "(array([1.600e+01, 7.000e+01, 5.906e+03, 8.980e+02, 3.060e+03, 3.380e+02,\n",
              "        6.400e+01, 1.578e+03, 7.100e+01, 5.620e+02, 5.000e+01, 3.800e+01,\n",
              "        4.414e+03, 4.670e+02, 5.120e+02, 4.700e+01, 6.100e+01, 4.940e+02,\n",
              "        6.500e+01, 2.210e+02, 7.000e+00, 5.000e+01, 1.890e+02, 7.900e+01,\n",
              "        3.003e+03, 7.000e+01, 2.860e+02, 1.230e+02, 2.300e+01, 7.700e+01,\n",
              "        7.000e+00, 1.000e+01, 9.000e+01, 1.400e+01, 4.300e+01, 3.000e+00,\n",
              "        7.000e+00, 4.370e+02, 9.000e+00, 1.600e+02, 8.200e+01, 1.300e+01,\n",
              "        3.700e+01, 1.100e+01, 5.400e+01, 1.100e+01, 1.000e+00, 1.400e+01,\n",
              "        2.000e+00, 1.542e+03]),\n",
              " array([1.00000e-02, 4.09600e-01, 8.09200e-01, 1.20880e+00, 1.60840e+00,\n",
              "        2.00800e+00, 2.40760e+00, 2.80720e+00, 3.20680e+00, 3.60640e+00,\n",
              "        4.00600e+00, 4.40560e+00, 4.80520e+00, 5.20480e+00, 5.60440e+00,\n",
              "        6.00400e+00, 6.40360e+00, 6.80320e+00, 7.20280e+00, 7.60240e+00,\n",
              "        8.00200e+00, 8.40160e+00, 8.80120e+00, 9.20080e+00, 9.60040e+00,\n",
              "        1.00000e+01, 1.03996e+01, 1.07992e+01, 1.11988e+01, 1.15984e+01,\n",
              "        1.19980e+01, 1.23976e+01, 1.27972e+01, 1.31968e+01, 1.35964e+01,\n",
              "        1.39960e+01, 1.43956e+01, 1.47952e+01, 1.51948e+01, 1.55944e+01,\n",
              "        1.59940e+01, 1.63936e+01, 1.67932e+01, 1.71928e+01, 1.75924e+01,\n",
              "        1.79920e+01, 1.83916e+01, 1.87912e+01, 1.91908e+01, 1.95904e+01,\n",
              "        1.99900e+01]),\n",
              " <a list of 50 Patch objects>)"
            ]
          },
          "metadata": {
            "tags": []
          },
          "execution_count": 41
        },
        {
          "output_type": "display_data",
          "data": {
            "image/png": "[encoded data removed]",
            "text/plain": [
              "<matplotlib.figure.Figure at 0x7fbd9fc6ea10>"
            ]
          },
          "metadata": {
            "tags": []
          }
        }
      ]
    },
    {
      "metadata": {
        "id": "CJZmgJr3hA2L",
        "colab_type": "code",
        "colab": {}
      },
      "cell_type": "code",
      "source": [
        ""
      ],
      "execution_count": 0,
      "outputs": []
    },
    {
      "metadata": {
        "id": "WoLD4dh3IUJL",
        "colab_type": "code",
        "colab": {}
      },
      "cell_type": "code",
      "source": [
        "# time series\n",
        "# 看过去的一段时间，发生了什么事情\n",
        "# 首先import datetime 将时间改为可识别的时间格式"
      ],
      "execution_count": 0,
      "outputs": []
    },
    {
      "metadata": {
        "id": "mEC1gsbaIpw1",
        "colab_type": "code",
        "colab": {}
      },
      "cell_type": "code",
      "source": [
        "import datetime\n",
        "my_data.date = pd.to_datetime(my_data.date, format='%Y%m$d')"
      ],
      "execution_count": 0,
      "outputs": []
    },
    {
      "metadata": {
        "id": "n36iCVzaJWwo",
        "colab_type": "code",
        "colab": {
          "base_uri": "https://localhost:8080/",
          "height": 309
        },
        "outputId": "6e7661a2-1a91-4570-8630-13ded345e5fc"
      },
      "cell_type": "code",
      "source": [
        "my_data.head(5)"
      ],
      "execution_count": 21,
      "outputs": [
        {
          "output_type": "execute_result",
          "data": {
            "text/html": [
              "<div>\n",
              "<style scoped>\n",
              "    .dataframe tbody tr th:only-of-type {\n",
              "        vertical-align: middle;\n",
              "    }\n",
              "\n",
              "    .dataframe tbody tr th {\n",
              "        vertical-align: top;\n",
              "    }\n",
              "\n",
              "    .dataframe thead th {\n",
              "        text-align: right;\n",
              "    }\n",
              "</style>\n",
              "<table border=\"1\" class=\"dataframe\">\n",
              "  <thead>\n",
              "    <tr style=\"text-align: right;\">\n",
              "      <th></th>\n",
              "      <th>country</th>\n",
              "      <th>date</th>\n",
              "      <th>experiment_id</th>\n",
              "      <th>order_id</th>\n",
              "      <th>spend_usd</th>\n",
              "      <th>user_id</th>\n",
              "      <th>vertical</th>\n",
              "    </tr>\n",
              "  </thead>\n",
              "  <tbody>\n",
              "    <tr>\n",
              "      <th>0</th>\n",
              "      <td>JP</td>\n",
              "      <td>2017-04-02</td>\n",
              "      <td>12624548</td>\n",
              "      <td>5813140433216629693</td>\n",
              "      <td>16.138855</td>\n",
              "      <td>5006730028073359543</td>\n",
              "      <td>ANDROID_APPS</td>\n",
              "    </tr>\n",
              "    <tr>\n",
              "      <th>1</th>\n",
              "      <td>US</td>\n",
              "      <td>2017-04-03</td>\n",
              "      <td>12624549</td>\n",
              "      <td>16333056276711034931</td>\n",
              "      <td>9.990000</td>\n",
              "      <td>5938685669571545259</td>\n",
              "      <td>ANDROID_APPS</td>\n",
              "    </tr>\n",
              "    <tr>\n",
              "      <th>2</th>\n",
              "      <td>JP</td>\n",
              "      <td>2017-04-04</td>\n",
              "      <td>12624548</td>\n",
              "      <td>11227119161741298366</td>\n",
              "      <td>19.887087</td>\n",
              "      <td>17623708458399141713</td>\n",
              "      <td>ANDROID_APPS</td>\n",
              "    </tr>\n",
              "    <tr>\n",
              "      <th>3</th>\n",
              "      <td>US</td>\n",
              "      <td>2017-04-03</td>\n",
              "      <td>12624548</td>\n",
              "      <td>11927299833124210932</td>\n",
              "      <td>19.990000</td>\n",
              "      <td>18042812344456618148</td>\n",
              "      <td>ANDROID_APPS</td>\n",
              "    </tr>\n",
              "    <tr>\n",
              "      <th>4</th>\n",
              "      <td>JP</td>\n",
              "      <td>2017-04-03</td>\n",
              "      <td>12624549</td>\n",
              "      <td>11644727017708872749</td>\n",
              "      <td>88.220093</td>\n",
              "      <td>4325104700699531031</td>\n",
              "      <td>ANDROID_APPS</td>\n",
              "    </tr>\n",
              "  </tbody>\n",
              "</table>\n",
              "</div>"
            ],
            "text/plain": [
              "  country       date  experiment_id              order_id  spend_usd  \\\n",
              "0      JP 2017-04-02       12624548   5813140433216629693  16.138855   \n",
              "1      US 2017-04-03       12624549  16333056276711034931   9.990000   \n",
              "2      JP 2017-04-04       12624548  11227119161741298366  19.887087   \n",
              "3      US 2017-04-03       12624548  11927299833124210932  19.990000   \n",
              "4      JP 2017-04-03       12624549  11644727017708872749  88.220093   \n",
              "\n",
              "                user_id      vertical  \n",
              "0   5006730028073359543  ANDROID_APPS  \n",
              "1   5938685669571545259  ANDROID_APPS  \n",
              "2  17623708458399141713  ANDROID_APPS  \n",
              "3  18042812344456618148  ANDROID_APPS  \n",
              "4   4325104700699531031  ANDROID_APPS  "
            ]
          },
          "metadata": {
            "tags": []
          },
          "execution_count": 21
        }
      ]
    },
    {
      "metadata": {
        "id": "hg5urH3qJeC-",
        "colab_type": "code",
        "colab": {
          "base_uri": "https://localhost:8080/",
          "height": 34
        },
        "outputId": "ea480ce2-0430-4744-cc88-146d263e8ec9"
      },
      "cell_type": "code",
      "source": [
        "# goal: compare revenue performance between red and blue\n",
        "np.unique(my_data[\"experiment_id\"])   \n",
        "# 上面是为了看这个column中是否只有两个值，代表的是实验组（48）和对照组（49）"
      ],
      "execution_count": 22,
      "outputs": [
        {
          "output_type": "execute_result",
          "data": {
            "text/plain": [
              "array([12624548, 12624549])"
            ]
          },
          "metadata": {
            "tags": []
          },
          "execution_count": 22
        }
      ]
    },
    {
      "metadata": {
        "id": "i-KBZs5UP42N",
        "colab_type": "code",
        "colab": {}
      },
      "cell_type": "code",
      "source": [
        "# 建立两个新的variables，方便后面使用\n",
        "red_button = np.unique(my_data[\"experiment_id\"])[0]\n",
        "blue_button = np.unique(my_data[\"experiment_id\"])[1]"
      ],
      "execution_count": 0,
      "outputs": []
    },
    {
      "metadata": {
        "id": "AchLdZhpQXzs",
        "colab_type": "code",
        "colab": {
          "base_uri": "https://localhost:8080/",
          "height": 34
        },
        "outputId": "eba5b98e-6774-474c-9054-e5378451d1d2"
      },
      "cell_type": "code",
      "source": [
        "#验证：\n",
        "red_button, blue_button   #对的"
      ],
      "execution_count": 24,
      "outputs": [
        {
          "output_type": "execute_result",
          "data": {
            "text/plain": [
              "(12624548, 12624549)"
            ]
          },
          "metadata": {
            "tags": []
          },
          "execution_count": 24
        }
      ]
    },
    {
      "metadata": {
        "id": "t8Rt2fWVRbVV",
        "colab_type": "code",
        "colab": {
          "base_uri": "https://localhost:8080/",
          "height": 204
        },
        "outputId": "8a3e8c81-3a3e-4562-dd46-0a7506c546db"
      },
      "cell_type": "code",
      "source": [
        "red_button_data = my_data[[\"date\", \"spend_usd\"]][my_data.experiment_id == red_button]\n",
        "red_button_data.head()"
      ],
      "execution_count": 28,
      "outputs": [
        {
          "output_type": "execute_result",
          "data": {
            "text/html": [
              "<div>\n",
              "<style scoped>\n",
              "    .dataframe tbody tr th:only-of-type {\n",
              "        vertical-align: middle;\n",
              "    }\n",
              "\n",
              "    .dataframe tbody tr th {\n",
              "        vertical-align: top;\n",
              "    }\n",
              "\n",
              "    .dataframe thead th {\n",
              "        text-align: right;\n",
              "    }\n",
              "</style>\n",
              "<table border=\"1\" class=\"dataframe\">\n",
              "  <thead>\n",
              "    <tr style=\"text-align: right;\">\n",
              "      <th></th>\n",
              "      <th>date</th>\n",
              "      <th>spend_usd</th>\n",
              "    </tr>\n",
              "  </thead>\n",
              "  <tbody>\n",
              "    <tr>\n",
              "      <th>0</th>\n",
              "      <td>2017-04-02</td>\n",
              "      <td>16.138855</td>\n",
              "    </tr>\n",
              "    <tr>\n",
              "      <th>2</th>\n",
              "      <td>2017-04-04</td>\n",
              "      <td>19.887087</td>\n",
              "    </tr>\n",
              "    <tr>\n",
              "      <th>3</th>\n",
              "      <td>2017-04-03</td>\n",
              "      <td>19.990000</td>\n",
              "    </tr>\n",
              "    <tr>\n",
              "      <th>5</th>\n",
              "      <td>2017-04-06</td>\n",
              "      <td>10.641677</td>\n",
              "    </tr>\n",
              "    <tr>\n",
              "      <th>6</th>\n",
              "      <td>2017-04-06</td>\n",
              "      <td>9.990000</td>\n",
              "    </tr>\n",
              "  </tbody>\n",
              "</table>\n",
              "</div>"
            ],
            "text/plain": [
              "        date  spend_usd\n",
              "0 2017-04-02  16.138855\n",
              "2 2017-04-04  19.887087\n",
              "3 2017-04-03  19.990000\n",
              "5 2017-04-06  10.641677\n",
              "6 2017-04-06   9.990000"
            ]
          },
          "metadata": {
            "tags": []
          },
          "execution_count": 28
        }
      ]
    },
    {
      "metadata": {
        "id": "bXLWJdtQa7x8",
        "colab_type": "code",
        "colab": {
          "base_uri": "https://localhost:8080/",
          "height": 170
        },
        "outputId": "15a01a07-4a50-4ac7-e4c6-2a8bc984b2f6"
      },
      "cell_type": "code",
      "source": [
        "# 求实验组每天花了多少钱\n",
        "red_ts = red_button_data.groupby('date')['spend_usd'].sum()\n",
        "red_ts"
      ],
      "execution_count": 53,
      "outputs": [
        {
          "output_type": "execute_result",
          "data": {
            "text/plain": [
              "date\n",
              "2017-04-01    84017.341822\n",
              "2017-04-02    53431.524779\n",
              "2017-04-03    53108.682338\n",
              "2017-04-04    45632.486579\n",
              "2017-04-05    51385.158293\n",
              "2017-04-06    47416.378814\n",
              "2017-04-07    62078.287834\n",
              "Name: spend_usd, dtype: float64"
            ]
          },
          "metadata": {
            "tags": []
          },
          "execution_count": 53
        }
      ]
    },
    {
      "metadata": {
        "id": "bM1FhX7Qbs2K",
        "colab_type": "code",
        "colab": {}
      },
      "cell_type": "code",
      "source": [
        "# 注意：这里如果写成\n",
        "# my_ts = red_button_data.groupby('date')[['spend_usd']].sum()\n",
        "# 结果图形会不一样，会是一个表格，但上面这个不是表格，而是array,下面画图仍然能画出来"
      ],
      "execution_count": 0,
      "outputs": []
    },
    {
      "metadata": {
        "id": "DTy3cHT4bstG",
        "colab_type": "code",
        "colab": {
          "base_uri": "https://localhost:8080/",
          "height": 357
        },
        "outputId": "9534f535-0d1c-40e4-e39a-9dfdc96ec9b4"
      },
      "cell_type": "code",
      "source": [
        "# 下面就开始作这个的图\n",
        "fig, ax = plt.subplots()\n",
        "ax.plot(red_ts, c=\"red\")\n",
        "\n",
        "# 格式修改\n",
        "plt.gcf().autofmt_xdate()   \n",
        "# x轴坐标变为四十五度角\n",
        "\n",
        "ax.set_ylim(0, 100000)\n",
        "# 改变Y轴范围，范围大，起伏不会那么明显\n",
        "\n",
        "ax.set_title(\"Red button\")\n",
        "ax.set_ylabel(\"Total spend\")\n",
        "ax.set_xlabel(\"\")\n",
        "# 加上title， label\n",
        "\n",
        "ax.grid(True, which=\"major\")\n",
        "ax.grid(True, which=\"both\")\n",
        "# 给图加上网格（Google colab 自带网格,所以这个没用）"
      ],
      "execution_count": 54,
      "outputs": [
        {
          "output_type": "display_data",
          "data": {
            "image/png": "[encoded data removed]",
            "text/plain": [
              "<matplotlib.figure.Figure at 0x7fbd9f4098d0>"
            ]
          },
          "metadata": {
            "tags": []
          }
        }
      ]
    },
    {
      "metadata": {
        "id": "Bdiyf-8Uj4wb",
        "colab_type": "code",
        "colab": {
          "base_uri": "https://localhost:8080/",
          "height": 357
        },
        "outputId": "e545910f-e2d2-46db-8038-df5654a35e72"
      },
      "cell_type": "code",
      "source": [
        "# 下面把实验组和对照组画在同一张图上\n",
        "# 先把对照组BLUE的数据准备好：\n",
        "blue_button_data = my_data[[\"date\", \"spend_usd\"]][my_data.experiment_id == blue_button]\n",
        "blue_ts = blue_button_data.groupby('date')['spend_usd'].sum()\n",
        "\n",
        "# 开始画图\n",
        "fig, ax = plt.subplots()\n",
        "ax.plot(red_ts, c=\"red\", label=\"red\")\n",
        "ax.plot(blue_ts, c=\"blue\", label=\"blue\")\n",
        "\n",
        "# some tweaks\n",
        "ax.set_ylim(0, 100000)\n",
        "ax.set_title(\"Red vs. Blue\")\n",
        "ax.set_ylabel(\"Total spend\")\n",
        "ax.grid(True, which=\"both\")\n",
        "\n",
        "# change legend 改变右上角图例的名字\n",
        "ax.legend().get_texts()[0].set_text(\"experiment\")\n",
        "ax.legend().get_texts()[1].set_text(\"control\")\n",
        "# 以上改变图例的操作只能改其中一个图例的名字，不知道为何。可以用另外的方法\n",
        "# 在“开始画图”的那一步，改为：\n",
        "# fig, ax = plt.subplots()\n",
        "# ax.plot(red_ts, c=\"red\", label=\"Experiment\")\n",
        "# ax.plot(blue_ts, c=\"blue\", label=\"Control\")\n",
        "\n",
        "# format date\n",
        "plt.gcf().autofmt_xdate()"
      ],
      "execution_count": 56,
      "outputs": [
        {
          "output_type": "display_data",
          "data": {
            "image/png": "[encoded data removed]",
            "text/plain": [
              "<matplotlib.figure.Figure at 0x7fbd9f358310>"
            ]
          },
          "metadata": {
            "tags": []
          }
        }
      ]
    },
    {
      "metadata": {
        "id": "jGuOhfdN52Wd",
        "colab_type": "code",
        "colab": {}
      },
      "cell_type": "code",
      "source": [
        "# plotly是一个更好的画图软件，需要花钱~"
      ],
      "execution_count": 0,
      "outputs": []
    },
    {
      "metadata": {
        "id": "-Cm-n-ZW_wT0",
        "colab_type": "code",
        "colab": {}
      },
      "cell_type": "code",
      "source": [
        ""
      ],
      "execution_count": 0,
      "outputs": []
    },
    {
      "metadata": {
        "id": "NMUmQYzl_wFM",
        "colab_type": "code",
        "colab": {}
      },
      "cell_type": "code",
      "source": [
        ""
      ],
      "execution_count": 0,
      "outputs": []
    },
    {
      "metadata": {
        "id": "i-3Z5Muc7eYe",
        "colab_type": "code",
        "colab": {}
      },
      "cell_type": "code",
      "source": [
        "# 上面的过程：提取数据，求和，画图；重复了两遍，红蓝色\n",
        "# 可以提取流程，以后输入任何一个东西，都能返回红蓝色相似的结果"
      ],
      "execution_count": 0,
      "outputs": []
    },
    {
      "metadata": {
        "id": "ieVdgvNx72Xs",
        "colab_type": "code",
        "colab": {}
      },
      "cell_type": "code",
      "source": [
        "# for any given experiment_id, return a list by date\n",
        "def GetSeries(my_data, my_id):      #define\n",
        "  table = my_data[[\"date\", \"spend_usd\"]][my_data.experiment_id == my_id]\n",
        "  series = table.groupby(\"date\")[\"spend_usd\"].sum()\n",
        "  return(series)"
      ],
      "execution_count": 0,
      "outputs": []
    },
    {
      "metadata": {
        "id": "rtFDWWko81C9",
        "colab_type": "code",
        "colab": {
          "base_uri": "https://localhost:8080/",
          "height": 170
        },
        "outputId": "e2894a34-2690-4ad7-d68c-5cb4ce1a5fd6"
      },
      "cell_type": "code",
      "source": [
        "result = GetSeries(my_data, blue_button)\n",
        "result  #这个series不知道是啥"
      ],
      "execution_count": 143,
      "outputs": [
        {
          "output_type": "execute_result",
          "data": {
            "text/plain": [
              "date\n",
              "2017-04-01    79698.149014\n",
              "2017-04-02    55951.937566\n",
              "2017-04-03    47839.298116\n",
              "2017-04-04    45516.828865\n",
              "2017-04-05    54308.545056\n",
              "2017-04-06    53889.940812\n",
              "2017-04-07    58283.084721\n",
              "Name: spend_usd, dtype: float64"
            ]
          },
          "metadata": {
            "tags": []
          },
          "execution_count": 143
        }
      ]
    },
    {
      "metadata": {
        "id": "Bu62EUr4875G",
        "colab_type": "code",
        "colab": {}
      },
      "cell_type": "code",
      "source": [
        "# plot the time series\n",
        "def PlotSeries(index_series, experiment_series, control_series):\n",
        "    df = pd.DataFrame(\n",
        "        {\n",
        "            \"experiment\": experiment_series.tolist(),   \n",
        "            \"control\": control_series.tolist()\n",
        "              #这一步把return转化为了两列list\n",
        "        },\n",
        "        index = index_series.tolist(), # a range of dates\n",
        "        columns = [\"experiment\", \"control\"]\n",
        "    )\n",
        "    fig, ax = plt.subplots()\n",
        "    ax.plot(df.experiment, color=\"red\", label=\"Experiment\")\n",
        "    ax.plot(df.control, color=\"blue\", label = \"Control\")\n",
        "    # some tweaks\n",
        "    ax.set_ylim(0,100000)\n",
        "    ax.set_title(\"Red vs. Blue\")\n",
        "    ax.set_ylabel(\"Total spend\")\n",
        "    ax.grid(True, which=\"both\")\n",
        "    # change legend\n",
        "    ax.legend()\n",
        "    # format date\n",
        "    plt.gcf().autofmt_xdate()"
      ],
      "execution_count": 0,
      "outputs": []
    },
    {
      "metadata": {
        "id": "FZuGaeKp-J8J",
        "colab_type": "code",
        "colab": {
          "base_uri": "https://localhost:8080/",
          "height": 357
        },
        "outputId": "7ac0cc42-866e-4c10-df07-41ac72e7237e"
      },
      "cell_type": "code",
      "source": [
        "red = GetSeries(my_data, red_button)\n",
        "blue = GetSeries(my_data, blue_button)\n",
        "index_series = blue.index\n",
        "\n",
        "PlotSeries(index_series, red, blue)"
      ],
      "execution_count": 101,
      "outputs": [
        {
          "output_type": "display_data",
          "data": {
            "image/png": "[encoded data removed]",
            "text/plain": [
              "<matplotlib.figure.Figure at 0x7fbda203c050>"
            ]
          },
          "metadata": {
            "tags": []
          }
        }
      ]
    },
    {
      "metadata": {
        "id": "WXEGa9WxDTLM",
        "colab_type": "code",
        "colab": {}
      },
      "cell_type": "code",
      "source": [
        ""
      ],
      "execution_count": 0,
      "outputs": []
    },
    {
      "metadata": {
        "id": "VSrsPGknDTcN",
        "colab_type": "code",
        "colab": {}
      },
      "cell_type": "code",
      "source": [
        ""
      ],
      "execution_count": 0,
      "outputs": []
    },
    {
      "metadata": {
        "id": "RLKMfn2eDS_1",
        "colab_type": "code",
        "colab": {}
      },
      "cell_type": "code",
      "source": [
        "# Homework\n",
        "# PrintCumulativeTimeSeries()\n",
        "# Input: three parameters: experiment_id, country, and vertical\n",
        "# output: \n",
        "# 1. time series chart showing the uplift; \n",
        "# 2. overall % uplift on revenue, experiment vs. control (red-blue)/blue%"
      ],
      "execution_count": 0,
      "outputs": []
    },
    {
      "metadata": {
        "id": "g65I6PVIKm_W",
        "colab_type": "text"
      },
      "cell_type": "markdown",
      "source": [
        "Similarly to PrintDailyTimeSeries() in the sample code, write a Python function called PrintCumulativeTimeSeries(). Specifically:\n",
        "\n",
        "The function takes three inputs:\n",
        "experiment_id\n",
        "country\n",
        "vertical\n",
        "\n",
        "The function produces two outputs:\n",
        "A time series chart showing the cumulative uplift (hint: search for cumsum)\n",
        "Print out the cumulative % uplift on revenue, experiment vs. control. Hint: (red - blue) / blue %\n"
      ]
    },
    {
      "metadata": {
        "id": "l-Z5TAIZjUVj",
        "colab_type": "code",
        "colab": {}
      },
      "cell_type": "code",
      "source": [
        "# function 1: for any given experiment_id, return a list group by date\n",
        "def GetSeries(my_data, my_id):\n",
        "    table = my_data[[\"date\", \"spend_usd\"]][my_data.experiment_id == my_id]\n",
        "    series = table.groupby('date')['spend_usd'].sum()\n",
        "    return(series)"
      ],
      "execution_count": 0,
      "outputs": []
    },
    {
      "metadata": {
        "id": "U-Qf5Qvnm7cc",
        "colab_type": "code",
        "colab": {}
      },
      "cell_type": "code",
      "source": [
        "# function 2: for any two series, plot the time series\n",
        "def PlotSeries(experiment_series, control_series):\n",
        "    fig, ax = plt.subplots()\n",
        "    ax.plot(experiment_series, color=\"red\", label=\"experiment\")\n",
        "    ax.plot(control_series, color=\"blue\", label=\"control\")\n",
        "    ax.set_title(\"Red vs. Blue\")\n",
        "    ax.set_ylabel(\"Total spend\")\n",
        "    ax.grid(True, which=\"both\")\n",
        "    ax.legend()\n",
        "    #plt.gcf().autofmt_xdate()"
      ],
      "execution_count": 0,
      "outputs": []
    },
    {
      "metadata": {
        "id": "rnFwrU4SqdR6",
        "colab_type": "code",
        "colab": {}
      },
      "cell_type": "code",
      "source": [
        "# 我的理解过程\n",
        "red = GetSeries(my_data, red_button)\n",
        "blue = GetSeries(my_data, blue_button)\n"
      ],
      "execution_count": 0,
      "outputs": []
    },
    {
      "metadata": {
        "id": "njzPyPWPqnp3",
        "colab_type": "code",
        "colab": {
          "base_uri": "https://localhost:8080/",
          "height": 362
        },
        "outputId": "7005f124-49db-4f3d-b678-0dbfb26e10e8"
      },
      "cell_type": "code",
      "source": [
        "# 我的理解过程\n",
        "PlotSeries(red, blue)"
      ],
      "execution_count": 151,
      "outputs": [
        {
          "output_type": "display_data",
          "data": {
            "image/png": "[encoded data removed]",
            "text/plain": [
              "<matplotlib.figure.Figure at 0x7fbd9ee4d1d0>"
            ]
          },
          "metadata": {
            "tags": []
          }
        }
      ]
    },
    {
      "metadata": {
        "id": "e2ANmbAtrPFd",
        "colab_type": "code",
        "colab": {}
      },
      "cell_type": "code",
      "source": [
        "# master function:   这步不懂！！！\n",
        "def PrintDailyTimeSeries(my_data, experiment_ids):\n",
        "    # make sure our x-axis is consistent\n",
        "    index_series = np.unique(my_data.date) # unique date\n",
        "    index_series = np.sort(index_series) # sort by date\n",
        "    \n",
        "    # data grouping\n",
        "    my_data = my_data.sort_values(\"date\", ascending=True, inplace=False)\n",
        "    treatment_series = GetSeries(my_data, experiment_ids[0])\n",
        "    control_series = GetSeries(my_data, experiment_ids[1])\n",
        "    \n",
        "    PlotSeries(treatment_series, control_series)"
      ],
      "execution_count": 0,
      "outputs": []
    },
    {
      "metadata": {
        "id": "zn0BtpXF39bj",
        "colab_type": "code",
        "colab": {}
      },
      "cell_type": "code",
      "source": [
        ""
      ],
      "execution_count": 0,
      "outputs": []
    },
    {
      "metadata": {
        "id": "YuZ5Nv2j36zS",
        "colab_type": "code",
        "colab": {}
      },
      "cell_type": "code",
      "source": [
        ""
      ],
      "execution_count": 0,
      "outputs": []
    },
    {
      "metadata": {
        "id": "ESotVNqhjSKd",
        "colab_type": "code",
        "colab": {}
      },
      "cell_type": "code",
      "source": [
        "\n",
        "# now, PrintCumulativeTimeSeries()\n",
        "# a few function to return the cumulative sum instead of sum\n",
        "def GetCumulativeSeries(my_data, my_id, country):\n",
        "    table = my_data[[\"date\", \"spend_usd\"]][(my_data.experiment_id == my_id) & (my_data.country == country)]\n",
        "    series = table.groupby('date')['spend_usd'].sum()\n",
        "    series = np.cumsum(series)\n",
        "    total_revenue = series[-1]\n",
        "    return((series, total_revenue))\n",
        "\n",
        "# same as before\n",
        "def PlotSeries(experiment_series, control_series):\n",
        "    fig, ax = plt.subplots()\n",
        "    ax.plot(experiment_series, color=\"red\", label=\"experiment\")\n",
        "    ax.plot(control_series, color=\"blue\", label=\"control\")\n",
        "    ax.set_title(\"Red vs. Blue\")\n",
        "    ax.set_ylabel(\"Total spend\")\n",
        "    ax.grid(True, which=\"both\")\n",
        "    ax.legend()\n",
        "    plt.gcf().autofmt_xdate()\n",
        "    \n",
        "def PrintCumulativeTimeSeries(my_data, experiment_ids, country):\n",
        "    # make sure our x-axis is consistent\n",
        "    index_series = np.unique(my_data.date) # unique date\n",
        "    index_series = np.sort(index_series) # sort by date\n",
        "    \n",
        "    # data grouping\n",
        "    my_data = my_data.sort_values(\"date\", ascending=True, inplace=False)\n",
        "    treatment_series = GetCumulativeSeries(my_data, experiment_ids[0], country)[0]\n",
        "    control_series = GetCumulativeSeries(my_data, experiment_ids[1], country)[0]\n",
        "    treatment_revenue = GetCumulativeSeries(my_data, experiment_ids[0], country)[1]\n",
        "    control_revenue = GetCumulativeSeries(my_data, experiment_ids[1], country)[1]\n",
        "    \n",
        "    print(\"Cumulative revenue impact: \" + str(treatment_revenue/control_revenue*100-100) + \"%\")\n",
        "    PlotSeries(treatment_series, control_series)\n",
        "In [40]:\n",
        "PrintCumulativeTimeSeries(my_data, [12624548,12624549], \"US\")\n",
        "Cumulative revenue impact: -4.46580818945%\n"
      ],
      "execution_count": 0,
      "outputs": []
    },
    {
      "metadata": {
        "id": "2GUu_VK74zpF",
        "colab_type": "code",
        "colab": {}
      },
      "cell_type": "code",
      "source": [
        ""
      ],
      "execution_count": 0,
      "outputs": []
    },
    {
      "metadata": {
        "id": "62bnlIkI5QI7",
        "colab_type": "code",
        "colab": {}
      },
      "cell_type": "code",
      "source": [
        ""
      ],
      "execution_count": 0,
      "outputs": []
    },
    {
      "metadata": {
        "id": "N81xXb355QQ1",
        "colab_type": "code",
        "colab": {}
      },
      "cell_type": "code",
      "source": [
        ""
      ],
      "execution_count": 0,
      "outputs": []
    },
    {
      "metadata": {
        "id": "ve2gDW2j5QY8",
        "colab_type": "code",
        "colab": {}
      },
      "cell_type": "code",
      "source": [
        ""
      ],
      "execution_count": 0,
      "outputs": []
    },
    {
      "metadata": {
        "id": "fWfMLmdj5QfY",
        "colab_type": "code",
        "colab": {}
      },
      "cell_type": "code",
      "source": [
        "# homework 1\n",
        "# your are BA in the email marketing group at AMAZON. \n",
        "# say the product marketing manager wants to run an email campaign.\n",
        "# 1. what are some of the metrics you want to look at?\n",
        "# 2. which metric do you thinks is the most important/relevant?\n",
        "\n",
        "#1. funnel: sent --> open --> click(-->conversion)\n",
        "# 发送量，打开邮件的量，点击了邮件上链接的量，最后用户是否做了一件事情，比如购买,\n",
        "# opt-out rate: %users who unsubscribe,有多少用户取消订阅了。可以作为单独的metric；\n",
        "# 也可以作为conversion里的一种行为。\n",
        "#2. ？"
      ],
      "execution_count": 0,
      "outputs": []
    },
    {
      "metadata": {
        "id": "J0m-BPdx9Hqe",
        "colab_type": "text"
      },
      "cell_type": "markdown",
      "source": [
        "homework 2\n",
        "\n",
        "before running A/B tests, we need to figure out how many samples are needed to achieve a certain level of statistical power?\n",
        "what are some of the ways to reduce required sample size?\n",
        "\n"
      ]
    }
  ]
}